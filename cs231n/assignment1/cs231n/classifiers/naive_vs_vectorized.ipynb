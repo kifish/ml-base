{
 "cells": [
  {
   "cell_type": "code",
   "execution_count": 1,
   "metadata": {},
   "outputs": [],
   "source": [
    "import time\n",
    "from linear_svm import *\n",
    "from data_utils import load_CIFAR10\n",
    "\n",
    "def get_CIFAR10_data(num_training=49000, num_dev=500):  \n",
    "\n",
    "    # Load the raw CIFAR-10 data  \n",
    "    cifar10_dir = '../datasets/cifar-10-batches-py'   # make a change\n",
    "    X_train, y_train, X_test, y_test = load_CIFAR10(cifar10_dir)  \n",
    "    mask = range(num_training)  \n",
    "    X_train = X_train[mask]  \n",
    "    mask = np.random.choice(num_training, num_dev, replace=False) #这里不做模型performance评估，只是用于衡量速度。   \n",
    "    X_dev = X_train[mask]  \n",
    "    y_dev = y_train[mask]  \n",
    "\n",
    "    X_train = np.reshape(X_train, (X_train.shape[0], -1))  \n",
    "    X_dev = np.reshape(X_dev, (X_dev.shape[0], -1))    \n",
    "\n",
    "    mean_image = np.mean(X_train, axis=0)  \n",
    "    X_dev -= mean_image  \n",
    "    X_dev = np.hstack([X_dev, np.ones((X_dev.shape[0], 1))])  \n",
    "\n",
    "    return X_dev, y_dev"
   ]
  },
  {
   "cell_type": "code",
   "execution_count": 2,
   "metadata": {},
   "outputs": [
    {
     "name": "stdout",
     "output_type": "stream",
     "text": [
      "Naive loss and gradient: computed in 0.097830s\n",
      "Vectorized loss and gradient: computed in 0.007204s\n"
     ]
    }
   ],
   "source": [
    "X_dev, y_dev = get_CIFAR10_data()\n",
    "# generate a random SVM weight matrix of small numbers\n",
    "W = np.random.randn(3073, 10) * 0.0001\n",
    "tic = time.time()\n",
    "loss_naive, grad_naive = svm_loss_naive(W, X_dev, y_dev, 0.00001)\n",
    "toc = time.time()\n",
    "print('Naive loss and gradient: computed in %fs' % (toc - tic))    \n",
    "\n",
    "tic = time.time()\n",
    "loss_vectorized, grad_vectorized = svm_loss_vectorized(W, X_dev, y_dev, 0.00001)\n",
    "toc = time.time()\n",
    "print('Vectorized loss and gradient: computed in %fs' % (toc - tic))   "
   ]
  }
 ],
 "metadata": {
  "kernelspec": {
   "display_name": "Python 3",
   "language": "python",
   "name": "python3"
  },
  "language_info": {
   "codemirror_mode": {
    "name": "ipython",
    "version": 3
   },
   "file_extension": ".py",
   "mimetype": "text/x-python",
   "name": "python",
   "nbconvert_exporter": "python",
   "pygments_lexer": "ipython3",
   "version": "3.6.5"
  }
 },
 "nbformat": 4,
 "nbformat_minor": 2
}
