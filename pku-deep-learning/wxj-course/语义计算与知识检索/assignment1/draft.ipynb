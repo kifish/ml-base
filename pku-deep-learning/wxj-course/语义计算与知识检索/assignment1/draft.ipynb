{
 "cells": [
  {
   "cell_type": "markdown",
   "metadata": {},
   "source": [
    "https://stackoverflow.com/questions/41793842/wordnet-python-words-similarity\n",
    "\n",
    "http://www.nltk.org/howto/wordnet.html\n",
    "\n",
    "https://stackoverflow.com/questions/13513455/drawing-a-graph-or-a-network-from-a-distance-matrix"
   ]
  },
  {
   "cell_type": "code",
   "execution_count": 1,
   "metadata": {},
   "outputs": [],
   "source": [
    "from nltk.corpus import wordnet as wn"
   ]
  },
  {
   "cell_type": "code",
   "execution_count": 2,
   "metadata": {},
   "outputs": [
    {
     "data": {
      "text/plain": [
       "[Synset('dog.n.01'),\n",
       " Synset('frump.n.01'),\n",
       " Synset('dog.n.03'),\n",
       " Synset('cad.n.01'),\n",
       " Synset('frank.n.02'),\n",
       " Synset('pawl.n.01'),\n",
       " Synset('andiron.n.01'),\n",
       " Synset('chase.v.01')]"
      ]
     },
     "execution_count": 2,
     "metadata": {},
     "output_type": "execute_result"
    }
   ],
   "source": [
    "wn.synsets('dog')"
   ]
  },
  {
   "cell_type": "code",
   "execution_count": 3,
   "metadata": {},
   "outputs": [
    {
     "data": {
      "text/plain": [
       "[Synset('chase.v.01')]"
      ]
     },
     "execution_count": 3,
     "metadata": {},
     "output_type": "execute_result"
    }
   ],
   "source": [
    "wn.synsets('dog', pos=wn.VERB)"
   ]
  },
  {
   "cell_type": "code",
   "execution_count": 4,
   "metadata": {},
   "outputs": [
    {
     "name": "stdout",
     "output_type": "stream",
     "text": [
      "a member of the genus Canis (probably descended from the common wolf) that has been domesticated by man since prehistoric times; occurs in many breeds\n"
     ]
    }
   ],
   "source": [
    "print(wn.synset('dog.n.01').definition())"
   ]
  },
  {
   "cell_type": "code",
   "execution_count": 5,
   "metadata": {},
   "outputs": [
    {
     "name": "stdout",
     "output_type": "stream",
     "text": [
      "the dog barked all night\n"
     ]
    }
   ],
   "source": [
    "print(wn.synset('dog.n.01').examples()[0])"
   ]
  },
  {
   "cell_type": "code",
   "execution_count": 6,
   "metadata": {},
   "outputs": [
    {
     "data": {
      "text/plain": [
       "[Lemma('dog.n.01.dog'),\n",
       " Lemma('dog.n.01.domestic_dog'),\n",
       " Lemma('dog.n.01.Canis_familiaris')]"
      ]
     },
     "execution_count": 6,
     "metadata": {},
     "output_type": "execute_result"
    }
   ],
   "source": [
    "wn.synset('dog.n.01').lemmas()"
   ]
  },
  {
   "cell_type": "code",
   "execution_count": 7,
   "metadata": {},
   "outputs": [
    {
     "data": {
      "text/plain": [
       "['dog', 'domestic_dog', 'Canis_familiaris']"
      ]
     },
     "execution_count": 7,
     "metadata": {},
     "output_type": "execute_result"
    }
   ],
   "source": [
    "[str(lemma.name()) for lemma in wn.synset('dog.n.01').lemmas()]"
   ]
  },
  {
   "cell_type": "code",
   "execution_count": 8,
   "metadata": {},
   "outputs": [
    {
     "data": {
      "text/plain": [
       "Synset('dog.n.01')"
      ]
     },
     "execution_count": 8,
     "metadata": {},
     "output_type": "execute_result"
    }
   ],
   "source": [
    "wn.lemma('dog.n.01.dog').synset()"
   ]
  },
  {
   "cell_type": "code",
   "execution_count": 9,
   "metadata": {},
   "outputs": [
    {
     "name": "stdout",
     "output_type": "stream",
     "text": [
      "0.2\n",
      "0.14285714285714285\n",
      "0.14285714285714285\n",
      "None\n",
      "None\n"
     ]
    }
   ],
   "source": [
    "dog = wn.synset('dog.n.01')\n",
    "cat = wn.synset('cat.n.01')\n",
    "hit = wn.synset('hit.v.01')\n",
    "slap = wn.synset('slap.v.01')\n",
    "\n",
    "print(dog.path_similarity(cat))  # doctest: +ELLIPSIS\n",
    "\n",
    "print(hit.path_similarity(slap))  # doctest: +ELLIPSIS\n",
    "\n",
    "print(wn.path_similarity(hit, slap))  # doctest: +ELLIPSIS\n",
    "\n",
    "print(hit.path_similarity(slap, simulate_root=False))\n",
    "print(wn.path_similarity(hit, slap, simulate_root=False))"
   ]
  },
  {
   "cell_type": "code",
   "execution_count": 11,
   "metadata": {},
   "outputs": [
    {
     "name": "stdout",
     "output_type": "stream",
     "text": [
      "2.0281482472922856\n",
      "1.3121863889661687\n",
      "1.3121863889661687\n",
      "None\n",
      "None\n",
      "CPU times: user 809 µs, sys: 221 µs, total: 1.03 ms\n",
      "Wall time: 826 µs\n"
     ]
    }
   ],
   "source": [
    "%%time\n",
    "print(dog.lch_similarity(cat))  # doctest: +ELLIPSIS\n",
    "print(hit.lch_similarity(slap))  # doctest: +ELLIPSIS\n",
    "print(wn.lch_similarity(hit, slap))  # doctest: +ELLIPSIS\n",
    "print(hit.lch_similarity(slap, simulate_root=False))\n",
    "print(wn.lch_similarity(hit, slap, simulate_root=False))"
   ]
  },
  {
   "cell_type": "code",
   "execution_count": 12,
   "metadata": {},
   "outputs": [
    {
     "name": "stdout",
     "output_type": "stream",
     "text": [
      "0.8571428571428571\n",
      "0.25\n",
      "0.25\n",
      "None\n",
      "None\n",
      "CPU times: user 1.55 ms, sys: 274 µs, total: 1.83 ms\n",
      "Wall time: 1.61 ms\n"
     ]
    }
   ],
   "source": [
    "%%time\n",
    "print(dog.wup_similarity(cat))  # doctest: +ELLIPSIS\n",
    "print(hit.wup_similarity(slap))  \n",
    "print(wn.wup_similarity(hit, slap)) \n",
    "print(hit.wup_similarity(slap, simulate_root=False))\n",
    "print(wn.wup_similarity(hit, slap, simulate_root=False))"
   ]
  },
  {
   "cell_type": "markdown",
   "metadata": {},
   "source": [
    "wordnet_ic Information Content: Load an information content file from the wordnet_ic corpus."
   ]
  },
  {
   "cell_type": "code",
   "execution_count": 14,
   "metadata": {},
   "outputs": [
    {
     "name": "stderr",
     "output_type": "stream",
     "text": [
      "[nltk_data] Downloading package wordnet_ic to /Users/k/nltk_data...\n",
      "[nltk_data]   Unzipping corpora/wordnet_ic.zip.\n"
     ]
    },
    {
     "data": {
      "text/plain": [
       "True"
      ]
     },
     "execution_count": 14,
     "metadata": {},
     "output_type": "execute_result"
    }
   ],
   "source": [
    "import nltk\n",
    "nltk.download('wordnet_ic')"
   ]
  },
  {
   "cell_type": "code",
   "execution_count": 15,
   "metadata": {},
   "outputs": [],
   "source": [
    "from nltk.corpus import wordnet_ic\n",
    "brown_ic = wordnet_ic.ic('ic-brown.dat')\n",
    "semcor_ic = wordnet_ic.ic('ic-semcor.dat')\n",
    "# Or you can create an information content dictionary from a corpus (or anything that has a words() method).\n",
    "from nltk.corpus import genesis\n",
    "genesis_ic = wn.ic(genesis, False, 0.0)"
   ]
  },
  {
   "cell_type": "markdown",
   "metadata": {},
   "source": [
    "synset1.res_similarity(synset2, ic): Resnik Similarity: Return a score denoting how similar two word senses are, based on the Information Content (IC) of the Least Common Subsumer (most specific ancestor node). Note that for any similarity measure that uses information content, the result is dependent on the corpus used to generate the information content and the specifics of how the information content was created."
   ]
  },
  {
   "cell_type": "code",
   "execution_count": 16,
   "metadata": {},
   "outputs": [
    {
     "name": "stdout",
     "output_type": "stream",
     "text": [
      "7.911666509036577\n",
      "7.204023991374837\n"
     ]
    }
   ],
   "source": [
    "print(dog.res_similarity(cat, brown_ic))  # doctest: +ELLIPSIS\n",
    "print(dog.res_similarity(cat, genesis_ic))  # doctest: +ELLIPSIS"
   ]
  },
  {
   "cell_type": "markdown",
   "metadata": {},
   "source": [
    "synset1.jcn_similarity(synset2, ic): Jiang-Conrath Similarity Return a score denoting how similar two word senses are, based on the Information Content (IC) of the Least Common Subsumer (most specific ancestor node) and that of the two input Synsets. The relationship is given by the equation 1 / (IC(s1) + IC(s2) - 2 * IC(lcs))."
   ]
  },
  {
   "cell_type": "code",
   "execution_count": 17,
   "metadata": {},
   "outputs": [
    {
     "name": "stdout",
     "output_type": "stream",
     "text": [
      "0.4497755285516739\n",
      "0.28539390848096946\n"
     ]
    }
   ],
   "source": [
    "print(dog.jcn_similarity(cat, brown_ic))  # doctest: +ELLIPSIS\n",
    "print(dog.jcn_similarity(cat, genesis_ic))  # doctest: +ELLIPSIS"
   ]
  },
  {
   "cell_type": "markdown",
   "metadata": {},
   "source": [
    "synset1.lin_similarity(synset2, ic): Lin Similarity: Return a score denoting how similar two word senses are, based on the Information Content (IC) of the Least Common Subsumer (most specific ancestor node) and that of the two input Synsets. The relationship is given by the equation 2 * IC(lcs) / (IC(s1) + IC(s2))."
   ]
  },
  {
   "cell_type": "code",
   "execution_count": 18,
   "metadata": {},
   "outputs": [
    {
     "data": {
      "text/plain": [
       "0.8863288628086228"
      ]
     },
     "execution_count": 18,
     "metadata": {},
     "output_type": "execute_result"
    }
   ],
   "source": [
    "dog.lin_similarity(cat, semcor_ic)  # doctest: +ELLIPSIS"
   ]
  },
  {
   "cell_type": "code",
   "execution_count": 22,
   "metadata": {},
   "outputs": [],
   "source": [
    "test_data = []\n",
    "path = './test_data.txt' #\n",
    "with open(path,'r',encoding = 'utf-8') as f:\n",
    "    for line in f.readlines():\n",
    "        word1,word2,sim = line.split(',') #sim的值为1-5之间\n",
    "        sim = float(sim)\n",
    "        test_data.append((word1,word2,sim))"
   ]
  },
  {
   "cell_type": "code",
   "execution_count": 23,
   "metadata": {},
   "outputs": [
    {
     "name": "stdout",
     "output_type": "stream",
     "text": [
      "771\n"
     ]
    }
   ],
   "source": [
    "print(len(test_data))"
   ]
  },
  {
   "cell_type": "code",
   "execution_count": 24,
   "metadata": {},
   "outputs": [
    {
     "name": "stdout",
     "output_type": "stream",
     "text": [
      "('access', 'gateway', 3.791666667)\n"
     ]
    }
   ],
   "source": [
    "print(test_data[0])"
   ]
  },
  {
   "cell_type": "code",
   "execution_count": 37,
   "metadata": {},
   "outputs": [
    {
     "name": "stdout",
     "output_type": "stream",
     "text": [
      "[Synset('customer.n.01')]\n"
     ]
    }
   ],
   "source": [
    "print(wn.synsets('customers'))"
   ]
  },
  {
   "cell_type": "code",
   "execution_count": 38,
   "metadata": {},
   "outputs": [
    {
     "name": "stdout",
     "output_type": "stream",
     "text": [
      "n\n"
     ]
    }
   ],
   "source": [
    "for synset in wn.synsets('customers'):\n",
    "    print(synset.pos())"
   ]
  },
  {
   "cell_type": "code",
   "execution_count": 36,
   "metadata": {},
   "outputs": [
    {
     "ename": "WordNetError",
     "evalue": "no lemma 'customers' with part of speech 'n'",
     "output_type": "error",
     "traceback": [
      "\u001b[0;31m---------------------------------------------------------------------------\u001b[0m",
      "\u001b[0;31mKeyError\u001b[0m                                  Traceback (most recent call last)",
      "\u001b[0;32m/usr/local/lib/python3.6/site-packages/nltk/corpus/reader/wordnet.py\u001b[0m in \u001b[0;36msynset\u001b[0;34m(self, name)\u001b[0m\n\u001b[1;32m   1333\u001b[0m         \u001b[0;32mtry\u001b[0m\u001b[0;34m:\u001b[0m\u001b[0;34m\u001b[0m\u001b[0m\n\u001b[0;32m-> 1334\u001b[0;31m             \u001b[0moffset\u001b[0m \u001b[0;34m=\u001b[0m \u001b[0mself\u001b[0m\u001b[0;34m.\u001b[0m\u001b[0m_lemma_pos_offset_map\u001b[0m\u001b[0;34m[\u001b[0m\u001b[0mlemma\u001b[0m\u001b[0;34m]\u001b[0m\u001b[0;34m[\u001b[0m\u001b[0mpos\u001b[0m\u001b[0;34m]\u001b[0m\u001b[0;34m[\u001b[0m\u001b[0msynset_index\u001b[0m\u001b[0;34m]\u001b[0m\u001b[0;34m\u001b[0m\u001b[0m\n\u001b[0m\u001b[1;32m   1335\u001b[0m         \u001b[0;32mexcept\u001b[0m \u001b[0mKeyError\u001b[0m\u001b[0;34m:\u001b[0m\u001b[0;34m\u001b[0m\u001b[0m\n",
      "\u001b[0;31mKeyError\u001b[0m: 'n'",
      "\nDuring handling of the above exception, another exception occurred:\n",
      "\u001b[0;31mWordNetError\u001b[0m                              Traceback (most recent call last)",
      "\u001b[0;32m<ipython-input-36-3a01b5070d14>\u001b[0m in \u001b[0;36m<module>\u001b[0;34m()\u001b[0m\n\u001b[0;32m----> 1\u001b[0;31m \u001b[0mprint\u001b[0m\u001b[0;34m(\u001b[0m\u001b[0mwn\u001b[0m\u001b[0;34m.\u001b[0m\u001b[0msynset\u001b[0m\u001b[0;34m(\u001b[0m\u001b[0;34m'customers.n.01'\u001b[0m\u001b[0;34m)\u001b[0m\u001b[0;34m)\u001b[0m\u001b[0;34m\u001b[0m\u001b[0m\n\u001b[0m",
      "\u001b[0;32m/usr/local/lib/python3.6/site-packages/nltk/corpus/reader/wordnet.py\u001b[0m in \u001b[0;36msynset\u001b[0;34m(self, name)\u001b[0m\n\u001b[1;32m   1335\u001b[0m         \u001b[0;32mexcept\u001b[0m \u001b[0mKeyError\u001b[0m\u001b[0;34m:\u001b[0m\u001b[0;34m\u001b[0m\u001b[0m\n\u001b[1;32m   1336\u001b[0m             \u001b[0mmessage\u001b[0m \u001b[0;34m=\u001b[0m \u001b[0;34m'no lemma %r with part of speech %r'\u001b[0m\u001b[0;34m\u001b[0m\u001b[0m\n\u001b[0;32m-> 1337\u001b[0;31m             \u001b[0;32mraise\u001b[0m \u001b[0mWordNetError\u001b[0m\u001b[0;34m(\u001b[0m\u001b[0mmessage\u001b[0m \u001b[0;34m%\u001b[0m \u001b[0;34m(\u001b[0m\u001b[0mlemma\u001b[0m\u001b[0;34m,\u001b[0m \u001b[0mpos\u001b[0m\u001b[0;34m)\u001b[0m\u001b[0;34m)\u001b[0m\u001b[0;34m\u001b[0m\u001b[0m\n\u001b[0m\u001b[1;32m   1338\u001b[0m         \u001b[0;32mexcept\u001b[0m \u001b[0mIndexError\u001b[0m\u001b[0;34m:\u001b[0m\u001b[0;34m\u001b[0m\u001b[0m\n\u001b[1;32m   1339\u001b[0m             \u001b[0mn_senses\u001b[0m \u001b[0;34m=\u001b[0m \u001b[0mlen\u001b[0m\u001b[0;34m(\u001b[0m\u001b[0mself\u001b[0m\u001b[0;34m.\u001b[0m\u001b[0m_lemma_pos_offset_map\u001b[0m\u001b[0;34m[\u001b[0m\u001b[0mlemma\u001b[0m\u001b[0;34m]\u001b[0m\u001b[0;34m[\u001b[0m\u001b[0mpos\u001b[0m\u001b[0;34m]\u001b[0m\u001b[0;34m)\u001b[0m\u001b[0;34m\u001b[0m\u001b[0m\n",
      "\u001b[0;31mWordNetError\u001b[0m: no lemma 'customers' with part of speech 'n'"
     ]
    }
   ],
   "source": [
    "print(wn.synset('customers.n.01'))"
   ]
  },
  {
   "cell_type": "code",
   "execution_count": 45,
   "metadata": {},
   "outputs": [],
   "source": [
    "import numpy as np\n",
    "def cal_sim_based_wordnet(test_data):\n",
    "    result = []\n",
    "    for sample in test_data:\n",
    "        sim = -1\n",
    "        word1,word2,_ = sample\n",
    "        word1_synsets = wn.synsets(word1)\n",
    "        word2_synsets = wn.synsets(word2)\n",
    "        for word1_synset in word1_synsets:\n",
    "            for word2_synset in word2_synsets:\n",
    "                if word1_synset.pos() == word2_synset.pos(): #词性相同\n",
    "                    try:\n",
    "                        sim = max(sim,word1_synset.lch_similarity(word2_synset))\n",
    "                    except Exception as e:\n",
    "                        pass\n",
    "#                         print(word1_synset,'\\t',word2_synset)\n",
    "#                         print(e)   \n",
    "        result.append((word1,word2,sim))\n",
    "    sims = list(map(lambda x : x[2],result))\n",
    "    print(np.mean(sims))\n",
    "    print(np.std(sims))\n",
    "    return result"
   ]
  },
  {
   "cell_type": "code",
   "execution_count": 46,
   "metadata": {},
   "outputs": [
    {
     "name": "stdout",
     "output_type": "stream",
     "text": [
      "2.7270948929057512\n",
      "0.5349678262208599\n"
     ]
    }
   ],
   "source": [
    "results = cal_sim_based_wordnet(test_data)"
   ]
  },
  {
   "cell_type": "code",
   "execution_count": 47,
   "metadata": {},
   "outputs": [
    {
     "name": "stdout",
     "output_type": "stream",
     "text": [
      "('access', 'gateway', 2.538973871058276)\n",
      "('account', 'explanation', 3.6375861597263857)\n",
      "('account', 'invoice', 3.6375861597263857)\n",
      "('account', 'statement', 2.9444389791664407)\n",
      "('acoustic', 'remedy', 2.9444389791664407)\n",
      "('acrylic', 'cloth', 2.9444389791664407)\n",
      "('action', 'adjustment', 2.538973871058276)\n",
      "('action', 'entrance', 2.538973871058276)\n",
      "('activity', 'event', 2.538973871058276)\n",
      "('activity', 'music', 2.9444389791664407)\n",
      "('activity', 'skiing', 2.2512917986064953)\n",
      "('addition', 'segment', 2.2512917986064953)\n",
      "('adhesive', 'glue', 2.538973871058276)\n",
      "('adult', 'dentist', 2.0281482472922856)\n",
      "('adult', 'doctor', 2.0281482472922856)\n",
      "('afternoon', 'substance', 2.2512917986064953)\n",
      "('age', 'childhood', 2.538973871058276)\n",
      "('agency', 'army', 2.9444389791664407)\n",
      "('agency', 'office', 3.6375861597263857)\n",
      "('agency', 'police', 2.538973871058276)\n",
      "('agent', 'spy', 2.538973871058276)\n",
      "('agreement', 'contract', 2.538973871058276)\n",
      "('aim', 'purpose', 3.6375861597263857)\n",
      "('aircraft', 'balloon', 2.538973871058276)\n",
      "('aircraft', 'yacht', 2.2512917986064953)\n",
      "('alarm', 'horn', 2.9444389791664407)\n",
      "('alarm', 'press', 2.2512917986064953)\n",
      "('algorithm', 'search', 2.0281482472922856)\n",
      "('alien', 'stranger', 3.6375861597263857)\n",
      "('alloy', 'metal', 3.6375861597263857)\n",
      "('alphabet', 'script', 2.9444389791664407)\n",
      "('aluminum', 'oxygen', 2.2512917986064953)\n",
      "('amount', 'distance', 2.538973871058276)\n",
      "('amount', 'number', 3.258096538021482)\n",
      "('amount', 'season', 2.2512917986064953)\n",
      "('amusement', 'athletics', 2.538973871058276)\n",
      "('amusement', 'play', 2.538973871058276)\n",
      "('amusement', 'procedure', 2.2512917986064953)\n",
      "('anatomy', 'creation', 2.2512917986064953)\n",
      "('animal', 'flora', 2.538973871058276)\n",
      "('animal', 'worm', 2.538973871058276)\n",
      "('ankle', 'joint', 2.2512917986064953)\n",
      "('anniversary', 'birthday', 2.9444389791664407)\n",
      "('answer', 'plea', 2.9444389791664407)\n",
      "('apparel', 'dress', 3.6375861597263857)\n",
      "('appearance', 'shadow', 2.538973871058276)\n",
      "('apple', 'bank', 1.2396908869280152)\n",
      "('apple', 'orange', 2.2512917986064953)\n",
      "('apple', 'pod', 2.2512917986064953)\n",
      "('appliance', 'dryer', 2.9444389791664407)\n",
      "('appliance', 'refrigerator', 2.2512917986064953)\n",
      "('approach', 'swing', 2.9444389791664407)\n",
      "('approval', 'encouragement', 2.9444389791664407)\n",
      "('approving', 'interaction', 1.6916760106710724)\n",
      "('arc', 'rainbow', 2.9444389791664407)\n",
      "('architecture', 'engineering', 2.538973871058276)\n",
      "('area', 'patio', 2.9444389791664407)\n",
      "('area', 'region', 3.6375861597263857)\n",
      "('argument', 'evidence', 2.9444389791664407)\n",
      "('argument', 'indication', 2.538973871058276)\n",
      "('arm', 'arrow', 2.538973871058276)\n",
      "('arm', 'missile', 2.9444389791664407)\n",
      "('armor', 'mail', 2.538973871058276)\n",
      "('army', 'legion', 2.9444389791664407)\n",
      "('aroma', 'fragrance', 3.6375861597263857)\n",
      "('aroma', 'smell', 3.6375861597263857)\n",
      "('arrangement', 'blizzard', 2.2512917986064953)\n",
      "('arrangement', 'room', 2.538973871058276)\n",
      "('article', 'girl', 1.55814461804655)\n",
      "('artillery', 'gun', 3.6375861597263857)\n",
      "('aspen', 'maple', 2.2512917986064953)\n",
      "('ass', 'donkey', 2.9444389791664407)\n",
      "('assembly', 'crowd', 2.538973871058276)\n",
      "('assets', 'capital', 2.9444389791664407)\n",
      "('assets', 'credit', 2.9444389791664407)\n",
      "('assets', 'income', 2.0281482472922856)\n",
      "('association', 'organization', 2.9444389791664407)\n",
      "('athlete', 'participant', 2.538973871058276)\n",
      "('athletics', 'racing', 2.9444389791664407)\n",
      "('athletics', 'swimming', 2.538973871058276)\n",
      "('attitude', 'notice', 1.845826690498331)\n",
      "('attitude', 'study', 2.0281482472922856)\n",
      "('attorney', 'lawyer', 3.6375861597263857)\n",
      "('attraction', 'pressure', 2.2512917986064953)\n",
      "('attraction', 'quality', 2.9444389791664407)\n",
      "('attribute', 'condition', 2.538973871058276)\n",
      "('average', 'time', 2.0281482472922856)\n",
      "('baby', 'computer', 2.2512917986064953)\n",
      "('bail', 'bond', 3.6375861597263857)\n",
      "('bait', 'instrument', 2.538973871058276)\n",
      "('bait', 'pump', 2.0281482472922856)\n",
      "('bakery', 'work', 2.9444389791664407)\n",
      "('bakery', 'workplace', 2.9444389791664407)\n",
      "('balance', 'gauge', 2.2512917986064953)\n",
      "('ball', 'egg', 3.6375861597263857)\n",
      "('ball', 'nut', 3.6375861597263857)\n",
      "('ball', 'poker', 1.6916760106710724)\n",
      "('ball', 'sphere', 2.9444389791664407)\n",
      "('band', 'circle', 3.6375861597263857)\n",
      "('bar', 'needle', 2.538973871058276)\n",
      "('bar', 'rod', 2.538973871058276)\n",
      "('barrel', 'gallon', 2.538973871058276)\n",
      "('base', 'club', 2.0281482472922856)\n",
      "('base', 'stock', 2.9444389791664407)\n",
      "('baseball', 'softball', 2.9444389791664407)\n",
      "('basin', 'vessel', 2.9444389791664407)\n",
      "('basketball', 'hockey', 2.2512917986064953)\n",
      "('basketball', 'squash', 2.538973871058276)\n",
      "('bathroom', 'chamber', 2.538973871058276)\n",
      "('battle', 'fight', 3.6375861597263857)\n",
      "('bay', 'mere', 2.0281482472922856)\n",
      "('beach', 'chain', 2.538973871058276)\n",
      "('beach', 'ridge', 2.538973871058276)\n",
      "('beam', 'column', 2.2512917986064953)\n",
      "('beat', 'meter', 3.6375861597263857)\n",
      "('beat', 'rhythm', 3.6375861597263857)\n",
      "('bed', 'layer', 3.6375861597263857)\n",
      "('bedroom', 'cell', 2.538973871058276)\n",
      "('bedroom', 'construction', 2.2512917986064953)\n",
      "('bee', 'insect', 2.538973871058276)\n",
      "('beef', 'cattle', 2.9444389791664407)\n",
      "('beef', 'meat', 2.9444389791664407)\n",
      "('beginner', 'novice', 3.6375861597263857)\n",
      "('behavior', 'purpose', 2.2512917986064953)\n",
      "('belief', 'magic', 2.538973871058276)\n",
      "('belief', 'purpose', 2.2512917986064953)\n",
      "('bench', 'seat', 2.9444389791664407)\n",
      "('bend', 'curve', 3.6375861597263857)\n",
      "('berry', 'citrus', 2.538973871058276)\n",
      "('bill', 'invoice', 3.6375861597263857)\n",
      "('billboard', 'structure', 2.538973871058276)\n",
      "('bin', 'box', 2.538973871058276)\n",
      "('bin', 'cup', 2.538973871058276)\n",
      "('binary', 'star', 2.9444389791664407)\n",
      "('bird', 'creature', 2.2512917986064953)\n",
      "('bird', 'solid', 2.2512917986064953)\n",
      "('birth', 'modification', 2.9444389791664407)\n",
      "('bishop', 'priest', 2.9444389791664407)\n",
      "('bit', 'tool', 2.538973871058276)\n",
      "('bite', 'breakfast', 2.538973871058276)\n",
      "('bite', 'taste', 2.9444389791664407)\n",
      "('black', 'juvenile', 2.538973871058276)\n",
      "('blade', 'projector', 2.0281482472922856)\n",
      "('blanket', 'sleeve', 2.2512917986064953)\n",
      "('blizzard', 'rash', 3.6375861597263857)\n",
      "('blow', 'contact', 2.538973871058276)\n",
      "('blue', 'red', 2.538973871058276)\n",
      "('board', 'commission', 2.9444389791664407)\n",
      "('boat', 'ferry', 2.9444389791664407)\n",
      "('boat', 'vessel', 2.9444389791664407)\n",
      "('body', 'trunk', 3.6375861597263857)\n",
      "('bond', 'security', 2.9444389791664407)\n",
      "('bone', 'skull', 2.9444389791664407)\n",
      "('book', 'encyclopedia', 2.538973871058276)\n",
      "('booklet', 'reference', 2.538973871058276)\n",
      "('boot', 'kick', 3.6375861597263857)\n",
      "('boot', 'punch', 2.538973871058276)\n",
      "('bottom', 'sole', 2.9444389791664407)\n",
      "('boy', 'male', 2.9444389791664407)\n",
      "('boy', 'rover', 2.2512917986064953)\n",
      "('brace', 'stand', 2.538973871058276)\n",
      "('brain', 'head', 3.6375861597263857)\n",
      "('brake', 'click', 2.2512917986064953)\n",
      "('branch', 'department', 2.538973871058276)\n",
      "('brand', 'knife', 2.538973871058276)\n",
      "('brand', 'surname', 2.538973871058276)\n",
      "('brandy', 'liquor', 2.9444389791664407)\n",
      "('brass', 'executive', 2.9444389791664407)\n",
      "('bread', 'bun', 2.9444389791664407)\n",
      "('break', 'dash', 2.9444389791664407)\n",
      "('break', 'insert', 2.9444389791664407)\n",
      "('brick', 'cement', 2.538973871058276)\n",
      "('brick', 'strip', 2.2512917986064953)\n",
      "('broadcast', 'packet', 2.538973871058276)\n",
      "('brochure', 'publication', 2.538973871058276)\n",
      "('brochure', 'reference', 2.538973871058276)\n",
      "('brother', 'member', 2.9444389791664407)\n",
      "('brush', 'implement', 2.9444389791664407)\n",
      "('budget', 'fund', 2.9444389791664407)\n",
      "('buffer', 'cache', 2.9444389791664407)\n",
      "('bug', 'child', 2.0281482472922856)\n",
      "('build', 'flesh', 3.6375861597263857)\n",
      "('building', 'cafe', 2.538973871058276)\n",
      "('bulb', 'onion', 2.9444389791664407)\n",
      "('bulletin', 'news', 2.538973871058276)\n",
      "('bunny', 'server', 2.538973871058276)\n",
      "('burn', 'hurt', 2.9444389791664407)\n",
      "('burning', 'flame', 2.9444389791664407)\n",
      "('burning', 'punishment', 2.2512917986064953)\n",
      "('burst', 'transformation', 2.538973871058276)\n",
      "('business', 'disposition', 2.2512917986064953)\n",
      "('business', 'railway', 2.2512917986064953)\n",
      "('butter', 'stick', 2.9444389791664407)\n",
      "('butterfly', 'comma', 2.538973871058276)\n",
      "('cab', 'taxi', 3.6375861597263857)\n",
      "('cake', 'pie', 2.2512917986064953)\n",
      "('calendar', 'circulation', 1.3350010667323402)\n",
      "('calendar', 'system', 2.9444389791664407)\n",
      "('call', 'meeting', 2.5649493574615367)\n",
      "('call', 'statement', 2.9444389791664407)\n",
      "('campaign', 'operation', 2.9444389791664407)\n",
      "('candy', 'sweet', 2.9444389791664407)\n",
      "('cap', 'covering', 2.9444389791664407)\n",
      "('capital', 'seat', 2.9444389791664407)\n",
      "('captain', 'officer', 2.9444389791664407)\n",
      "('card', 'plastic', 2.538973871058276)\n",
      "('carriage', 'coach', 3.6375861597263857)\n",
      "('cart', 'wagon', 2.9444389791664407)\n",
      "('cartoon', 'wit', 2.9444389791664407)\n",
      "('case', 'grip', 2.538973871058276)\n",
      "('case', 'luggage', 2.9444389791664407)\n",
      "('case', 'tin', 2.538973871058276)\n",
      "('cast', 'fishing', 2.9444389791664407)\n",
      "('cat', 'vision', 1.2396908869280152)\n",
      "('category', 'flavor', 2.538973871058276)\n",
      "('cave', 'formation', 2.9444389791664407)\n",
      "('ceiling', 'overhead', 2.9444389791664407)\n",
      "('cement', 'glue', 2.9444389791664407)\n",
      "('center', 'loss', 1.55814461804655)\n",
      "('century', 'decade', 2.538973871058276)\n",
      "('century', 'period', 2.9444389791664407)\n",
      "('century', 'temperature', 2.2512917986064953)\n",
      "('certificate', 'study', 2.538973871058276)\n",
      "('certificate', 'wave', 1.55814461804655)\n",
      "('chair', 'furniture', 2.538973871058276)\n",
      "('chair', 'rocker', 2.9444389791664407)\n",
      "('chance', 'opportunity', 3.6375861597263857)\n",
      "('chance', 'probability', 3.6375861597263857)\n",
      "('chandler', 'retailer', 2.9444389791664407)\n",
      "('change', 'decrease', 2.9444389791664407)\n",
      "('change', 'move', 2.9444389791664407)\n",
      "('channel', 'sound', 2.9444389791664407)\n",
      "('character', 'vision', 2.538973871058276)\n",
      "('charge', 'damage', 2.538973871058276)\n",
      "('charge', 'tax', 2.5649493574615367)\n",
      "('check', 'draft', 2.9444389791664407)\n",
      "('cheese', 'food', 2.9444389791664407)\n",
      "('chemical', 'salt', 2.538973871058276)\n",
      "('chess', 'duty', 1.6916760106710724)\n",
      "('chick', 'hen', 2.538973871058276)\n",
      "('chicken', 'poultry', 2.9444389791664407)\n",
      "('chief', 'guru', 2.538973871058276)\n",
      "('child', 'kid', 3.6375861597263857)\n",
      "('chin', 'feature', 2.9444389791664407)\n",
      "('choice', 'option', 3.6375861597263857)\n",
      "('chuck', 'jaw', 2.538973871058276)\n",
      "('church', 'temple', 2.538973871058276)\n",
      "('circle', 'oval', 2.9444389791664407)\n",
      "('citrus', 'orange', 2.9444389791664407)\n",
      "('climb', 'mount', 3.6375861597263857)\n",
      "('clock', 'timer', 2.538973871058276)\n",
      "('cloth', 'satin', 2.9444389791664407)\n",
      "('cloud', 'energy', 2.538973871058276)\n",
      "('club', 'society', 3.6375861597263857)\n",
      "('coach', 'trainer', 2.9444389791664407)\n",
      "('coat', 'newspaper', 1.845826690498331)\n",
      "('coat', 'roof', 2.2512917986064953)\n",
      "('code', 'software', 2.9444389791664407)\n",
      "('coffee', 'meeting', 1.2396908869280152)\n",
      "('coin', 'currency', 2.538973871058276)\n",
      "('collapse', 'shock', 2.9444389791664407)\n",
      "('collection', 'packet', 2.9444389791664407)\n",
      "('collision', 'smash', 2.9444389791664407)\n",
      "('color', 'purple', 2.5649493574615367)\n",
      "('color', 'quality', 2.9444389791664407)\n",
      "('coloring', 'yellow', 2.5649493574615367)\n",
      "('comfort', 'relief', 2.9444389791664407)\n",
      "('commander', 'editor', 2.2512917986064953)\n",
      "('commerce', 'transport', 2.538973871058276)\n",
      "('commitment', 'guarantee', 2.538973871058276)\n",
      "('communication', 'message', 2.9444389791664407)\n",
      "('communication', 'statement', 2.538973871058276)\n",
      "('communication', 'tune', 2.2512917986064953)\n",
      "('community', 'province', 2.2512917986064953)\n",
      "('community', 'territory', 2.9444389791664407)\n",
      "('company', 'distributor', 2.9444389791664407)\n",
      "('company', 'establishment', 2.9444389791664407)\n",
      "('comparison', 'scrutiny', 2.9444389791664407)\n",
      "('compound', 'salt', 2.9444389791664407)\n",
      "('conclusion', 'result', 2.9444389791664407)\n",
      "('condition', 'status', 3.6375861597263857)\n",
      "('conditions', 'weather', 3.6375861597263857)\n",
      "('congress', 'sex', 2.9444389791664407)\n",
      "('connection', 'keyboard', 2.2512917986064953)\n",
      "('conservation', 'traveling', 1.4403615823901665)\n",
      "('construction', 'window', 2.2512917986064953)\n",
      "('continent', 'ground', 2.538973871058276)\n",
      "('control', 'driving', 2.5649493574615367)\n",
      "('cook', 'printer', 2.538973871058276)\n",
      "('cooking', 'cuisine', 2.9444389791664407)\n",
      "('copy', 'image', 2.538973871058276)\n",
      "('copy', 'work', 2.159484249353372)\n",
      "('cord', 'pick', 2.538973871058276)\n",
      "('cord', 'yarn', 2.9444389791664407)\n",
      "('corridor', 'hall', 2.9444389791664407)\n",
      "('corruption', 'house', 1.55814461804655)\n",
      "('cost', 'postage', 2.538973871058276)\n",
      "('cost', 'reward', 2.538973871058276)\n",
      "('couch', 'lounge', 3.6375861597263857)\n",
      "('count', 'number', 3.258096538021482)\n",
      "('counter', 'furniture', 2.9444389791664407)\n",
      "('country', 'playground', 2.9444389791664407)\n",
      "('course', 'starter', 2.9444389791664407)\n",
      "('court', 'drawer', 2.2512917986064953)\n",
      "('court', 'tribunal', 3.6375861597263857)\n",
      "('cousin', 'relation', 2.9444389791664407)\n",
      "('cousin', 'relative', 2.9444389791664407)\n",
      "('cover', 'feather', 2.5649493574615367)\n",
      "('cover', 'hair', 2.538973871058276)\n",
      "('cover', 'sleeve', 2.2512917986064953)\n",
      "('covering', 'skin', 2.538973871058276)\n",
      "('crack', 'hole', 2.538973871058276)\n",
      "('craft', 'trade', 3.6375861597263857)\n",
      "('creation', 'stitch', 2.2512917986064953)\n",
      "('creativity', 'vision', 2.9444389791664407)\n",
      "('credit', 'sum', 2.538973871058276)\n",
      "('creek', 'stream', 2.9444389791664407)\n",
      "('crew', 'society', 2.2512917986064953)\n",
      "('crew', 'unit', 2.9444389791664407)\n",
      "('crop', 'plant', 2.9444389791664407)\n",
      "('crow', 'jay', 2.538973871058276)\n",
      "('crown', 'place', 2.9444389791664407)\n",
      "('crush', 'push', 2.2512917986064953)\n",
      "('cube', 'dice', 3.258096538021482)\n",
      "('cup', 'handbag', 2.538973871058276)\n",
      "('cup', 'son', 1.2396908869280152)\n",
      "('current', 'flow', 3.6375861597263857)\n",
      "('curve', 'rainbow', 2.538973871058276)\n",
      "('customers', 'mission', 1.1526795099383855)\n",
      "('cut', 'meat', 2.9444389791664407)\n",
      "('cutter', 'knife', 2.538973871058276)\n",
      "('cylinder', 'pen', 2.2512917986064953)\n",
      "('dad', 'parent', 2.538973871058276)\n",
      "('daisy', 'flower', 2.9444389791664407)\n",
      "('damage', 'terms', 3.6375861597263857)\n",
      "('danger', 'status', 2.9444389791664407)\n",
      "('dash', 'sprint', 3.6375861597263857)\n",
      "('dashboard', 'protection', 2.9444389791664407)\n",
      "('database', 'list', 2.9444389791664407)\n",
      "('daughter', 'girl', 3.6375861597263857)\n",
      "('day', 'shoes', 1.55814461804655)\n",
      "('deal', 'hand', 3.6375861597263857)\n",
      "('debt', 'deficit', 2.538973871058276)\n",
      "('debt', 'loan', 2.9444389791664407)\n",
      "('debt', 'possession', 2.538973871058276)\n",
      "('decision', 'option', 2.9444389791664407)\n",
      "('decrease', 'increase', 2.538973871058276)\n",
      "('deep', 'ocean', 2.9444389791664407)\n",
      "('deficit', 'trust', 2.0281482472922856)\n",
      "('degree', 'quantity', 2.2512917986064953)\n",
      "('degree', 'style', 2.538973871058276)\n",
      "('delivery', 'distribution', 2.538973871058276)\n",
      "('department', 'division', 2.9444389791664407)\n",
      "('descent', 'fall', 3.6375861597263857)\n",
      "('desert', 'tract', 2.9444389791664407)\n",
      "('desire', 'feeling', 2.9444389791664407)\n",
      "('desk', 'table', 2.9444389791664407)\n",
      "('determination', 'discovery', 2.9444389791664407)\n",
      "('determination', 'selection', 2.9444389791664407)\n",
      "('development', 'exploitation', 3.6375861597263857)\n",
      "('device', 'drum', 2.2512917986064953)\n",
      "('devil', 'satan', 3.6375861597263857)\n",
      "('dialogue', 'play', 2.2512917986064953)\n",
      "('diamond', 'parcel', 2.9444389791664407)\n",
      "('digit', 'toe', 2.9444389791664407)\n",
      "('digit', 'unit', 2.538973871058276)\n",
      "('dinner', 'party', 2.9444389791664407)\n",
      "('direction', 'government', 2.538973871058276)\n",
      "('direction', 'protocol', 2.538973871058276)\n",
      "('direction', 'traveling', 1.55814461804655)\n",
      "('dirt', 'sand', 2.9444389791664407)\n",
      "('dirt', 'soil', 3.6375861597263857)\n",
      "('discharge', 'spark', 3.6375861597263857)\n",
      "('disease', 'illness', 2.9444389791664407)\n",
      "('display', 'language', 2.538973871058276)\n",
      "('distance', 'distribution', 2.538973871058276)\n",
      "('diversion', 'skiing', 2.538973871058276)\n",
      "('dividend', 'net', 2.9444389791664407)\n",
      "('dividend', 'profit', 2.9444389791664407)\n",
      "('diving', 'swim', 2.9444389791664407)\n",
      "('dock', 'herb', 2.9444389791664407)\n",
      "('document', 'report', 2.9444389791664407)\n",
      "('dog', 'fauna', 2.538973871058276)\n",
      "('domain', 'land', 3.6375861597263857)\n",
      "('door', 'light', 1.845826690498331)\n",
      "('doubt', 'ego', 2.2512917986064953)\n",
      "('drama', 'genre', 2.9444389791664407)\n",
      "('draw', 'finish', 2.9444389791664407)\n",
      "('draw', 'tie', 3.6375861597263857)\n",
      "('drawer', 'pan', 2.538973871058276)\n",
      "('dressing', 'patch', 2.9444389791664407)\n",
      "('dressing', 'sauce', 2.9444389791664407)\n",
      "('drill', 'implement', 2.538973871058276)\n",
      "('drink', 'slice', 2.538973871058276)\n",
      "('driver', 'supporter', 2.538973871058276)\n",
      "('driver', 'worker', 2.9444389791664407)\n",
      "('drop', 'serving', 2.538973871058276)\n",
      "('drug', 'liquor', 2.2512917986064953)\n",
      "('drug', 'operator', 2.2512917986064953)\n",
      "('drum', 'piano', 2.538973871058276)\n",
      "('eagle', 'hawk', 2.538973871058276)\n",
      "('ear', 'organ', 2.538973871058276)\n",
      "('ease', 'relaxation', 3.6375861597263857)\n",
      "('ease', 'rest', 3.6375861597263857)\n",
      "('editing', 'instrument', 2.2512917986064953)\n",
      "('editor', 'worker', 2.538973871058276)\n",
      "('eight', 'movement', 2.538973871058276)\n",
      "('element', 'iron', 2.538973871058276)\n",
      "('element', 'mixture', 2.538973871058276)\n",
      "('element', 'nickel', 2.538973871058276)\n",
      "('elevator', 'lift', 3.6375861597263857)\n",
      "('emission', 'gum', 2.538973871058276)\n",
      "('employee', 'server', 2.538973871058276)\n",
      "('endorsement', 'signature', 2.9444389791664407)\n",
      "('energy', 'microwave', 2.2512917986064953)\n",
      "('engineering', 'technology', 3.6375861597263857)\n",
      "('environment', 'land', 2.538973871058276)\n",
      "('equipment', 'recorder', 2.9444389791664407)\n",
      "('equipment', 'seat', 2.0281482472922856)\n",
      "('establishment', 'religion', 2.9444389791664407)\n",
      "('event', 'influence', 2.9444389791664407)\n",
      "('event', 'phenomenon', 2.9444389791664407)\n",
      "('evidence', 'format', 2.538973871058276)\n",
      "('evidence', 'record', 2.9444389791664407)\n",
      "('examination', 'quiz', 2.9444389791664407)\n",
      "('examiner', 'tea', 1.3350010667323402)\n",
      "('executive', 'minister', 2.9444389791664407)\n",
      "('executive', 'organization', 2.9444389791664407)\n",
      "('explanation', 'theory', 2.9444389791664407)\n",
      "('express', 'mail', 2.9444389791664407)\n",
      "('extract', 'selection', 3.6375861597263857)\n",
      "('eye', 'organ', 2.538973871058276)\n",
      "('fabric', 'lace', 2.9444389791664407)\n",
      "('fabric', 'sail', 2.538973871058276)\n",
      "('faith', 'religion', 3.6375861597263857)\n",
      "('fantasy', 'recycling', 1.3121863889661687)\n",
      "('farmer', 'individual', 2.538973871058276)\n",
      "('fault', 'mistake', 3.6375861597263857)\n",
      "('fauna', 'toy', 2.2512917986064953)\n",
      "('feature', 'side', 2.538973871058276)\n",
      "('feedback', 'flow', 2.538973871058276)\n",
      "('feeling', 'hope', 2.9444389791664407)\n",
      "('female', 'slave', 2.538973871058276)\n",
      "('female', 'woman', 2.9444389791664407)\n",
      "('fiction', 'literature', 2.2512917986064953)\n",
      "('fiction', 'romance', 2.538973871058276)\n",
      "('field', 'science', 2.9444389791664407)\n",
      "('field', 'yard', 2.9444389791664407)\n",
      "('fight', 'separation', 2.2512917986064953)\n",
      "('figure', 'stamp', 2.538973871058276)\n",
      "('film', 'movie', 3.6375861597263857)\n",
      "('find', 'implementation', 2.538973871058276)\n",
      "('find', 'occurrence', 2.2512917986064953)\n",
      "('finger', 'toe', 2.538973871058276)\n",
      "('flag', 'iris', 3.6375861597263857)\n",
      "('flame', 'reaction', 2.2512917986064953)\n",
      "('flash', 'lightning', 2.9444389791664407)\n",
      "('flat', 'housing', 2.9444389791664407)\n",
      "('flavor', 'variety', 2.9444389791664407)\n",
      "('flight', 'trip', 2.9444389791664407)\n",
      "('floor', 'level', 3.6375861597263857)\n",
      "('floor', 'porch', 2.538973871058276)\n",
      "('flora', 'plant', 3.6375861597263857)\n",
      "('flora', 'violet', 2.0281482472922856)\n",
      "('flour', 'garlic', 2.0281482472922856)\n",
      "('flower', 'pink', 2.9444389791664407)\n",
      "('flute', 'wind', 2.538973871058276)\n",
      "('flyer', 'justice', 2.2512917986064953)\n",
      "('food', 'sausage', 2.538973871058276)\n",
      "('foot', 'recognition', 1.3350010667323402)\n",
      "('football', 'rugby', 2.9444389791664407)\n",
      "('forecast', 'message', 2.2512917986064953)\n",
      "('forest', 'ground', 2.9444389791664407)\n",
      "('form', 'type', 2.9444389791664407)\n",
      "('format', 'packaging', 2.2512917986064953)\n",
      "('format', 'style', 2.0281482472922856)\n",
      "('foundation', 'support', 2.9444389791664407)\n",
      "('fox', 'wolf', 2.538973871058276)\n",
      "('framework', 'grill', 2.9444389791664407)\n",
      "('freeze', 'frost', 3.6375861597263857)\n",
      "('friend', 'individual', 2.9444389791664407)\n",
      "('front', 'school', 2.2512917986064953)\n",
      "('front', 'surface', 2.538973871058276)\n",
      "('fruit', 'seed', 2.9444389791664407)\n",
      "('fuel', 'gasoline', 2.9444389791664407)\n",
      "('fuel', 'nutrition', 2.2512917986064953)\n",
      "('fund', 'store', 3.6375861597263857)\n",
      "('funds', 'interest', 2.2512917986064953)\n",
      "('furniture', 'table', 2.9444389791664407)\n",
      "('gamble', 'kitty', 2.538973871058276)\n",
      "('gamble', 'pyramid', 2.538973871058276)\n",
      "('game', 'tennis', 2.2512917986064953)\n",
      "('garbage', 'rubbish', 2.9444389791664407)\n",
      "('garden', 'plantation', 2.9444389791664407)\n",
      "('garlic', 'meal', 2.0281482472922856)\n",
      "('garment', 'sweater', 2.9444389791664407)\n",
      "('garment', 'tie', 2.538973871058276)\n",
      "('gas', 'hydrogen', 2.9444389791664407)\n",
      "('gas', 'neon', 2.538973871058276)\n",
      "('gathering', 'parade', 2.2512917986064953)\n",
      "('gauge', 'meter', 2.538973871058276)\n",
      "('gear', 'mechanism', 2.9444389791664407)\n",
      "('gem', 'quartz', 1.845826690498331)\n",
      "('gender', 'sex', 3.6375861597263857)\n",
      "('gender', 'size', 2.0281482472922856)\n",
      "('genre', 'prose', 2.9444389791664407)\n",
      "('glass', 'tub', 2.538973871058276)\n",
      "('glove', 'wear', 2.538973871058276)\n",
      "('goal', 'objective', 2.9444389791664407)\n",
      "('golf', 'hockey', 2.2512917986064953)\n",
      "('good', 'sheet', 2.538973871058276)\n",
      "('governor', 'mayor', 2.538973871058276)\n",
      "('governor', 'politician', 2.9444389791664407)\n",
      "('graphic', 'image', 2.9444389791664407)\n",
      "('grass', 'universe', 1.4403615823901665)\n",
      "('gray', 'property', 2.0281482472922856)\n",
      "('grip', 'handle', 3.6375861597263857)\n",
      "('grip', 'hold', 3.6375861597263857)\n",
      "('growth', 'process', 2.9444389791664407)\n",
      "('guarantee', 'warranty', 3.6375861597263857)\n",
      "('guess', 'universe', 1.55814461804655)\n",
      "('gulf', 'ocean', 2.538973871058276)\n",
      "('hack', 'machine', 2.9444389791664407)\n",
      "('hamburger', 'nutrition', 2.0281482472922856)\n",
      "('hand', 'script', 3.6375861597263857)\n",
      "('happening', 'surprise', 2.538973871058276)\n",
      "('head', 'question', 3.6375861597263857)\n",
      "('head', 'secretary', 2.9444389791664407)\n",
      "('health', 'welfare', 2.9444389791664407)\n",
      "('hearing', 'proceedings', 2.9444389791664407)\n",
      "('heart', 'space', 2.538973871058276)\n",
      "('heart', 'ticker', 3.6375861597263857)\n",
      "('heat', 'temperature', 2.9444389791664407)\n",
      "('height', 'infinite', 2.0281482472922856)\n",
      "('helmet', 'scale', 2.538973871058276)\n",
      "('help', 'support', 2.9444389791664407)\n",
      "('help', 'supporter', 3.6375861597263857)\n",
      "('heritage', 'loss', 2.538973871058276)\n",
      "('highway', 'street', 2.2512917986064953)\n",
      "('highway', 'trail', 2.2512917986064953)\n",
      "('hit', 'tourist', 1.4403615823901665)\n",
      "('hole', 'opening', 2.9444389791664407)\n",
      "('holiday', 'vacation', 3.6375861597263857)\n",
      "('hood', 'protection', 2.9444389791664407)\n",
      "('hood', 'shelter', 2.538973871058276)\n",
      "('horn', 'tail', 2.538973871058276)\n",
      "('horse', 'mount', 2.9444389791664407)\n",
      "('hose', 'pipe', 2.538973871058276)\n",
      "('housing', 'vault', 2.2512917986064953)\n",
      "('icon', 'representation', 2.9444389791664407)\n",
      "('implement', 'stick', 2.9444389791664407)\n",
      "('impulse', 'motive', 2.9444389791664407)\n",
      "('impulse', 'urge', 3.6375861597263857)\n",
      "('information', 'target', 2.0281482472922856)\n",
      "('ink', 'liquid', 2.9444389791664407)\n",
      "('installation', 'zoo', 2.9444389791664407)\n",
      "('institution', 'prison', 2.2512917986064953)\n",
      "('instruction', 'lesson', 2.9444389791664407)\n",
      "('instruction', 'teaching', 3.6375861597263857)\n",
      "('instrumentation', 'perfume', 2.538973871058276)\n",
      "('instrumentation', 'rod', 2.538973871058276)\n",
      "('intensity', 'quiet', 2.538973871058276)\n",
      "('interest', 'lien', 2.538973871058276)\n",
      "('intervention', 'treatment', 3.6375861597263857)\n",
      "('inventory', 'listing', 2.9444389791664407)\n",
      "('investment', 'tomato', 1.1526795099383855)\n",
      "('jail', 'nick', 2.2512917986064953)\n",
      "('jail', 'prison', 2.538973871058276)\n",
      "('jaw', 'lens', 2.0281482472922856)\n",
      "('join', 'union', 3.6375861597263857)\n",
      "('joke', 'message', 2.538973871058276)\n",
      "('journey', 'travel', 3.258096538021482)\n",
      "('judgment', 'sense', 2.9444389791664407)\n",
      "('jumper', 'sweater', 3.6375861597263857)\n",
      "('jury', 'school', 2.538973871058276)\n",
      "('justice', 'official', 2.9444389791664407)\n",
      "('kiss', 'sweet', 2.538973871058276)\n",
      "('kitchen', 'toilet', 2.538973871058276)\n",
      "('knight', 'prince', 2.2512917986064953)\n",
      "('knowledge', 'revolution', 2.0281482472922856)\n",
      "('knowledge', 'taste', 2.0281482472922856)\n",
      "('lake', 'stream', 2.538973871058276)\n",
      "('lamb', 'young', 2.538973871058276)\n",
      "('language', 'tongue', 2.9444389791664407)\n",
      "('latex', 'rubber', 2.9444389791664407)\n",
      "('law', 'personnel', 2.9444389791664407)\n",
      "('layer', 'region', 2.9444389791664407)\n",
      "('layer', 'snow', 2.9444389791664407)\n",
      "('leader', 'politician', 2.9444389791664407)\n",
      "('lesson', 'teaching', 2.9444389791664407)\n",
      "('letter', 'text', 2.9444389791664407)\n",
      "('level', 'stage', 3.6375861597263857)\n",
      "('license', 'permission', 3.6375861597263857)\n",
      "('license', 'security', 2.538973871058276)\n",
      "('lien', 'share', 2.2512917986064953)\n",
      "('life', 'story', 2.9444389791664407)\n",
      "('line', 'occupation', 3.6375861597263857)\n",
      "('line', 'plane', 2.538973871058276)\n",
      "('line', 'queue', 2.9444389791664407)\n",
      "('lineup', 'roll', 2.9444389791664407)\n",
      "('link', 'union', 2.9444389791664407)\n",
      "('lion', 'tiger', 2.538973871058276)\n",
      "('literature', 'poem', 2.2512917986064953)\n",
      "('load', 'weight', 2.9444389791664407)\n",
      "('location', 'property', 2.538973871058276)\n",
      "('loss', 'possession', 2.538973871058276)\n",
      "('low', 'shoulder', 1.466337068793427)\n",
      "('lyric', 'printer', 0.9985288301111273)\n",
      "('magnolia', 'maple', 2.538973871058276)\n",
      "('male', 'man', 2.9444389791664407)\n",
      "('man', 'soldier', 2.538973871058276)\n",
      "('manager', 'trainer', 2.9444389791664407)\n",
      "('map', 'representation', 2.9444389791664407)\n",
      "('map', 'sewing', 2.0281482472922856)\n",
      "('map', 'video', 1.6916760106710724)\n",
      "('maple', 'tree', 2.538973871058276)\n",
      "('mark', 'print', 3.6375861597263857)\n",
      "('mark', 'slash', 2.538973871058276)\n",
      "('mask', 'roof', 2.538973871058276)\n",
      "('mate', 'relation', 2.9444389791664407)\n",
      "('matter', 'text', 2.9444389791664407)\n",
      "('matter', 'verse', 2.2512917986064953)\n",
      "('mayor', 'water', 1.55814461804655)\n",
      "('meal', 'mixture', 2.538973871058276)\n",
      "('meal', 'rice', 2.2512917986064953)\n",
      "('measure', 'money', 2.538973871058276)\n",
      "('measure', 'twist', 2.538973871058276)\n",
      "('meat', 'solid', 2.538973871058276)\n",
      "('melody', 'music', 2.9444389791664407)\n",
      "('memory', 'operation', 2.538973871058276)\n",
      "('metal', 'zinc', 2.9444389791664407)\n",
      "('meter', 'radar', 2.538973871058276)\n",
      "('microwave', 'radiation', 2.538973871058276)\n",
      "('middle', 'scene', 2.538973871058276)\n",
      "('minute', 'quantity', 2.538973871058276)\n",
      "('mode', 'scale', 2.538973871058276)\n",
      "('modification', 'surprise', 2.9444389791664407)\n",
      "('moment', 'thief', 1.072636802264849)\n",
      "('mortal', 'mother', 2.0281482472922856)\n",
      "('mortal', 'visitor', 2.538973871058276)\n",
      "('motion', 'snowboarding', 2.538973871058276)\n",
      "('motion', 'step', 2.538973871058276)\n",
      "('motive', 'reason', 2.538973871058276)\n",
      "('motorcycle', 'tank', 2.0281482472922856)\n",
      "('mount', 'volcano', 2.9444389791664407)\n",
      "('mouth', 'opening', 2.9444389791664407)\n",
      "('mouth', 'trap', 2.9444389791664407)\n",
      "('murphy', 'potato', 3.6375861597263857)\n",
      "('museum', 'store', 2.538973871058276)\n",
      "('music', 'print', 2.0281482472922856)\n",
      "('musician', 'performer', 2.9444389791664407)\n",
      "('needle', 'sharp', 2.538973871058276)\n",
      "('noise', 'trouble', 2.9444389791664407)\n",
      "('note', 'obligation', 2.9444389791664407)\n",
      "('notebook', 'product', 2.538973871058276)\n",
      "('notebook', 'production', 2.538973871058276)\n",
      "('novel', 'story', 2.538973871058276)\n",
      "('oak', 'tree', 2.9444389791664407)\n",
      "('objective', 'target', 3.6375861597263857)\n",
      "('occasion', 'second', 2.538973871058276)\n",
      "('occupation', 'place', 2.9444389791664407)\n",
      "('occurrence', 'tsunami', 2.2512917986064953)\n",
      "('ocean', 'pond', 2.2512917986064953)\n",
      "('office', 'outlet', 2.538973871058276)\n",
      "('office', 'situation', 3.6375861597263857)\n",
      "('onion', 'topic', 1.1526795099383855)\n",
      "('operation', 'processing', 2.538973871058276)\n",
      "('operative', 'spy', 2.9444389791664407)\n",
      "('opinion', 'papers', 2.538973871058276)\n",
      "('opinion', 'sentiment', 3.6375861597263857)\n",
      "('origin', 'root', 3.6375861597263857)\n",
      "('outlet', 'shop', 2.9444389791664407)\n",
      "('oxygen', 'substance', 2.538973871058276)\n",
      "('package', 'software', 3.6375861597263857)\n",
      "('padding', 'tower', 2.2512917986064953)\n",
      "('painting', 'picture', 3.6375861597263857)\n",
      "('papers', 'security', 2.538973871058276)\n",
      "('papers', 'ticket', 2.538973871058276)\n",
      "('parcel', 'region', 2.538973871058276)\n",
      "('park', 'stadium', 2.9444389791664407)\n",
      "('passage', 'quotation', 2.538973871058276)\n",
      "('patch', 'spot', 3.6375861597263857)\n",
      "('payment', 'spending', 2.9444389791664407)\n",
      "('permission', 'tolerance', 2.538973871058276)\n",
      "('person', 'technician', 2.538973871058276)\n",
      "('phantom', 'shadow', 3.6375861597263857)\n",
      "('piazza', 'square', 2.9444389791664407)\n",
      "('piece', 'sail', 2.538973871058276)\n",
      "('pinnacle', 'tower', 2.538973871058276)\n",
      "('place', 'position', 3.6375861597263857)\n",
      "('plane', 'sheet', 3.6375861597263857)\n",
      "('plane', 'tool', 2.538973871058276)\n",
      "('play', 'turn', 3.6375861597263857)\n",
      "('plot', 'strategy', 2.9444389791664407)\n",
      "('point', 'second', 2.9444389791664407)\n",
      "('point', 'site', 2.538973871058276)\n",
      "('point', 'spot', 3.6375861597263857)\n",
      "('polyester', 'textile', 2.9444389791664407)\n",
      "('position', 'view', 3.6375861597263857)\n",
      "('postage', 'rate', 2.538973871058276)\n",
      "('postage', 'signal', 2.2512917986064953)\n",
      "('power', 'skill', 2.9444389791664407)\n",
      "('prayer', 'request', 2.9444389791664407)\n",
      "('problem', 'trouble', 3.6375861597263857)\n",
      "('process', 'rule', 2.9444389791664407)\n",
      "('process', 'tail', 2.9444389791664407)\n",
      "('product', 'wear', 2.2512917986064953)\n",
      "('property', 'texture', 2.538973871058276)\n",
      "('protection', 'roof', 2.9444389791664407)\n",
      "('protocol', 'rule', 2.9444389791664407)\n",
      "('publication', 'textbook', 2.538973871058276)\n",
      "('pumpkin', 'vine', 2.538973871058276)\n",
      "('pupil', 'student', 3.6375861597263857)\n",
      "('pyramid', 'speculation', 2.9444389791664407)\n",
      "('query', 'question', 3.6375861597263857)\n",
      "('quiet', 'silence', 3.6375861597263857)\n",
      "('racer', 'taxi', 2.538973871058276)\n",
      "('radio', 'receiver', 2.9444389791664407)\n",
      "('rain', 'storm', 2.0281482472922856)\n",
      "('ray', 'shark', 2.538973871058276)\n",
      "('recreation', 'skiing', 2.538973871058276)\n",
      "('red', 'wine', 2.538973871058276)\n",
      "('report', 'study', 3.6375861597263857)\n",
      "('representative', 'voice', 3.6375861597263857)\n",
      "('ring', 'water', 2.0281482472922856)\n",
      "('rise', 'travel', 2.9444389791664407)\n",
      "('rock', 'stone', 3.6375861597263857)\n",
      "('roll', 'toast', 2.538973871058276)\n",
      "('root', 'stem', 3.6375861597263857)\n",
      "('rub', 'wipe', 3.6375861597263857)\n",
      "('rubber', 'stuff', 2.0281482472922856)\n",
      "('rugby', 'soccer', 2.538973871058276)\n",
      "('sail', 'sheet', 3.6375861597263857)\n",
      "('scandal', 'week', 1.3350010667323402)\n",
      "('science', 'shelter', 1.2396908869280152)\n",
      "('score', 'success', 2.9444389791664407)\n",
      "('season', 'summer', 2.9444389791664407)\n",
      "('season', 'winter', 2.9444389791664407)\n",
      "('second', 'time', 2.9444389791664407)\n",
      "('seminar', 'sweet', 1.2396908869280152)\n",
      "('sex', 'stance', 2.0281482472922856)\n",
      "('share', 'stake', 2.9444389791664407)\n",
      "('shelter', 'tent', 2.9444389791664407)\n",
      "('shelter', 'wind', 1.6916760106710724)\n",
      "('shirt', 'tiger', 1.3350010667323402)\n",
      "('side', 'slope', 3.6375861597263857)\n",
      "('sight', 'vision', 3.6375861597263857)\n",
      "('simulation', 'theory', 2.538973871058276)\n",
      "('skull', 'tooth', 2.538973871058276)\n",
      "('slash', 'stroke', 3.6375861597263857)\n",
      "('smash', 'success', 2.9444389791664407)\n",
      "('snap', 'touch', 2.9444389791664407)\n",
      "('software', 'writing', 2.2512917986064953)\n",
      "('song', 'vocal', 3.6375861597263857)\n",
      "('soup', 'spaghetti', 2.2512917986064953)\n",
      "('soup', 'sweet', 2.0281482472922856)\n",
      "('speech', 'word', 2.9444389791664407)\n",
      "('steel', 'weapon', 2.9444389791664407)\n",
      "('step', 'travel', 2.9444389791664407)\n",
      "('step', 'walk', 2.5649493574615367)\n",
      "('storm', 'weather', 2.538973871058276)\n",
      "('straight', 'stretch', 2.9444389791664407)\n",
      "('sun', 'toy', 1.6916760106710724)\n",
      "('tank', 'tub', 2.538973871058276)\n",
      "('taxpayer', 'window', 1.3350010667323402)\n",
      "('throne', 'toilet', 3.6375861597263857)\n",
      "('ticket', 'writing', 2.2512917986064953)\n",
      "('victory', 'watch', 1.3350010667323402)\n",
      "('washer', 'worker', 2.9444389791664407)\n",
      "('wife', 'woman', 2.9444389791664407)\n",
      "('workplace', 'workshop', 2.9444389791664407)\n"
     ]
    }
   ],
   "source": [
    "for sample in results:\n",
    "    print(sample)"
   ]
  },
  {
   "cell_type": "code",
   "execution_count": 49,
   "metadata": {},
   "outputs": [],
   "source": [
    "sim_based_on_wordnet = list(map(lambda x : x[2],results))\n",
    "sim_human = list(map(lambda x : x[2],test_data))\n",
    "from scipy import stats\n",
    "rho, pval = stats.spearmanr(sim_based_on_wordnet,sim_human)"
   ]
  },
  {
   "cell_type": "code",
   "execution_count": 50,
   "metadata": {},
   "outputs": [
    {
     "name": "stdout",
     "output_type": "stream",
     "text": [
      "0.49604190501569656\n"
     ]
    }
   ],
   "source": [
    "print(rho)"
   ]
  },
  {
   "cell_type": "markdown",
   "metadata": {},
   "source": [
    "https://docs.scipy.org/doc/scipy/reference/generated/scipy.stats.spearmanr.html\n",
    "https://www.cnblogs.com/zhangchaoyang/articles/2631907.html   \n",
    "https://blog.csdn.net/wsywl/article/details/5727327"
   ]
  },
  {
   "cell_type": "code",
   "execution_count": 53,
   "metadata": {},
   "outputs": [
    {
     "name": "stdout",
     "output_type": "stream",
     "text": [
      "mean: 0.4658680705373312\n",
      "std: 0.25191968840001233\n",
      "0.49849248829295956\n"
     ]
    }
   ],
   "source": [
    "def cal_path_sim_based_wordnet(test_data):\n",
    "    result = []\n",
    "    for sample in test_data:\n",
    "        sim = -1\n",
    "        word1,word2,_ = sample\n",
    "        word1_synsets = wn.synsets(word1)\n",
    "        word2_synsets = wn.synsets(word2)\n",
    "        for word1_synset in word1_synsets:\n",
    "            for word2_synset in word2_synsets:\n",
    "                if word1_synset.pos() == word2_synset.pos(): #词性相同\n",
    "                    try:\n",
    "                        sim = max(sim,word1_synset.path_similarity(word2_synset))\n",
    "                    except Exception as e:\n",
    "                        pass\n",
    "#                         print(word1_synset,'\\t',word2_synset)\n",
    "#                         print(e)   \n",
    "        result.append((word1,word2,sim))\n",
    "    sims = list(map(lambda x : x[2],result))\n",
    "    print('mean:',np.mean(sims))\n",
    "    print('std:',np.std(sims))\n",
    "    return result\n",
    "\n",
    "results = cal_path_sim_based_wordnet(test_data)\n",
    "path_sim_based_on_wordnet = list(map(lambda x : x[2],results))\n",
    "sim_human = list(map(lambda x : x[2],test_data))\n",
    "rho, pval = stats.spearmanr(path_sim_based_on_wordnet,sim_human)\n",
    "print(rho)"
   ]
  },
  {
   "cell_type": "markdown",
   "metadata": {},
   "source": [
    "https://zhuanlan.zhihu.com/p/24961011\n",
    "写的还行，不过有大段重复。这里面有个错误。其实，size应该是词向量的维度。"
   ]
  },
  {
   "cell_type": "code",
   "execution_count": 57,
   "metadata": {},
   "outputs": [],
   "source": [
    "from gensim.models import word2vec"
   ]
  },
  {
   "cell_type": "code",
   "execution_count": 58,
   "metadata": {},
   "outputs": [
    {
     "name": "stdout",
     "output_type": "stream",
     "text": [
      "CPU times: user 8 µs, sys: 1 µs, total: 9 µs\n",
      "Wall time: 13.8 µs\n"
     ]
    }
   ],
   "source": [
    "%%time\n",
    "sentences = word2vec.Text8Corpus('./text8.txt') #经过了分词处理"
   ]
  },
  {
   "cell_type": "code",
   "execution_count": 59,
   "metadata": {},
   "outputs": [
    {
     "name": "stdout",
     "output_type": "stream",
     "text": [
      "CPU times: user 3min 54s, sys: 5.12 s, total: 4min\n",
      "Wall time: 1min 51s\n"
     ]
    }
   ],
   "source": [
    "%%time\n",
    "model = word2vec.Word2Vec(sentences, size=200,min_count=1)"
   ]
  },
  {
   "cell_type": "code",
   "execution_count": 61,
   "metadata": {},
   "outputs": [
    {
     "name": "stderr",
     "output_type": "stream",
     "text": [
      "/usr/local/lib/python3.6/site-packages/ipykernel_launcher.py:1: DeprecationWarning: Call to deprecated `similarity` (Method will be removed in 4.0.0, use self.wv.similarity() instead).\n",
      "  \"\"\"Entry point for launching an IPython kernel.\n",
      "/usr/local/lib/python3.6/site-packages/gensim/matutils.py:737: FutureWarning: Conversion of the second argument of issubdtype from `int` to `np.signedinteger` is deprecated. In future, it will be treated as `np.int64 == np.dtype(int).type`.\n",
      "  if np.issubdtype(vec.dtype, np.int):\n"
     ]
    },
    {
     "data": {
      "text/plain": [
       "0.69430226"
      ]
     },
     "execution_count": 61,
     "metadata": {},
     "output_type": "execute_result"
    }
   ],
   "source": [
    "model.similarity('woman', 'man')"
   ]
  },
  {
   "cell_type": "code",
   "execution_count": 60,
   "metadata": {},
   "outputs": [],
   "source": [
    "def cal_sim_based_on_word2vec(test_data):\n",
    "    result = []\n",
    "    for sample in test_data:\n",
    "        word1,word2,_ = sample\n",
    "        sim = model.similarity(word1, word2)\n",
    "        result.append((word1,word2,sim))\n",
    "    sims = list(map(lambda x : x[2],result))\n",
    "    print('mean:',np.mean(sims))\n",
    "    print('std:',np.std(sims))\n",
    "    return result"
   ]
  },
  {
   "cell_type": "code",
   "execution_count": 62,
   "metadata": {},
   "outputs": [
    {
     "name": "stdout",
     "output_type": "stream",
     "text": [
      "mean: 0.34025797\n",
      "std: 0.21585985\n",
      "0.5033343211737935\n"
     ]
    },
    {
     "name": "stderr",
     "output_type": "stream",
     "text": [
      "/usr/local/lib/python3.6/site-packages/ipykernel_launcher.py:5: DeprecationWarning: Call to deprecated `similarity` (Method will be removed in 4.0.0, use self.wv.similarity() instead).\n",
      "  \"\"\"\n",
      "/usr/local/lib/python3.6/site-packages/gensim/matutils.py:737: FutureWarning: Conversion of the second argument of issubdtype from `int` to `np.signedinteger` is deprecated. In future, it will be treated as `np.int64 == np.dtype(int).type`.\n",
      "  if np.issubdtype(vec.dtype, np.int):\n"
     ]
    }
   ],
   "source": [
    "results = cal_sim_based_on_word2vec(test_data)\n",
    "sim_based_on_word2vec = list(map(lambda x : x[2],results))\n",
    "sim_human = list(map(lambda x : x[2],test_data))\n",
    "rho, pval = stats.spearmanr(sim_based_on_word2vec,sim_human)\n",
    "print(rho)"
   ]
  },
  {
   "cell_type": "markdown",
   "metadata": {},
   "source": [
    "也可以使用Freebase naming预训练好的词向量。这里先用GoogleNews-vectors-negative300.bin.gz，见https://code.google.com/archive/p/word2vec/   \n",
    "https://github.com/xgli/word2vec-api#where-to-get-a-pretrained-model   \n",
    "http://www.voidcn.com/article/p-weoxyjng-brp.html   \n",
    "https://lonepatient.top/2018/02/12/pretrained%20word%20vector%20model%20python.html\n",
    "\n",
    "\n",
    "GoogleNews-vectors-negative300.bin.gz过大，使用gitignore不上传github.(载入的时候使用bin格式，要解压一下)\n"
   ]
  },
  {
   "cell_type": "code",
   "execution_count": null,
   "metadata": {},
   "outputs": [],
   "source": [
    "EMBEDDING_FILE = './GoogleNews-vectors-negative300.bin'\n",
    "word2vecDict = word2vec.KeyedVectors.load_word2vec_format(EMBEDDING_FILE,binary=True)\n",
    "embed_size = 300\n",
    "embedding = dict()\n",
    "# 词与对应词向量\n",
    "for word in word2vecDict.wv.vocab:\n",
    "    embedding[word] = word2vecDict.word_vec(word) # 对应的(300,)的词向量\n",
    "print('Load %s word vectors.' % len(embedding))"
   ]
  },
  {
   "cell_type": "code",
   "execution_count": 65,
   "metadata": {},
   "outputs": [
    {
     "name": "stdout",
     "output_type": "stream",
     "text": [
      "[[0.4472136]]\n"
     ]
    }
   ],
   "source": [
    "# https://scikit-learn.org/stable/modules/generated/sklearn.metrics.pairwise.cosine_similarity.html\n",
    "from sklearn.metrics.pairwise import cosine_similarity\n",
    "print(cosine_similarity([[1,2]],[[1,0]])) #矩阵运算。"
   ]
  },
  {
   "cell_type": "code",
   "execution_count": 66,
   "metadata": {},
   "outputs": [
    {
     "name": "stderr",
     "output_type": "stream",
     "text": [
      "/usr/local/lib/python3.6/site-packages/ipykernel_launcher.py:1: DeprecationWarning: Call to deprecated `similarity` (Method will be removed in 4.0.0, use self.wv.similarity() instead).\n",
      "  \"\"\"Entry point for launching an IPython kernel.\n",
      "/usr/local/lib/python3.6/site-packages/gensim/matutils.py:737: FutureWarning: Conversion of the second argument of issubdtype from `int` to `np.signedinteger` is deprecated. In future, it will be treated as `np.int64 == np.dtype(int).type`.\n",
      "  if np.issubdtype(vec.dtype, np.int):\n"
     ]
    },
    {
     "data": {
      "text/plain": [
       "0.69430226"
      ]
     },
     "execution_count": 66,
     "metadata": {},
     "output_type": "execute_result"
    }
   ],
   "source": [
    "model.similarity('woman', 'man')\n",
    "#https://radimrehurek.com/gensim/models/keyedvectors.html#gensim.models.keyedvectors.BaseKeyedVectors.similarity"
   ]
  },
  {
   "cell_type": "markdown",
   "metadata": {},
   "source": [
    "https://radimrehurek.com/gensim/models/word2vec.html"
   ]
  },
  {
   "cell_type": "code",
   "execution_count": 68,
   "metadata": {},
   "outputs": [
    {
     "name": "stdout",
     "output_type": "stream",
     "text": [
      "[ 1.0936182e+00 -5.2764189e-01  3.8536820e-01  4.6905097e-01\n",
      " -1.2095776e+00  1.9831616e-01 -9.4056559e-01  5.1411468e-01\n",
      " -6.0975820e-01  3.9441466e-01  1.0875509e+00 -2.3040097e+00\n",
      "  6.3641429e-01 -5.0952858e-01  1.2991109e+00 -8.4646088e-01\n",
      " -2.2540779e+00 -1.5012826e-01  2.9543605e-01  1.4910125e+00\n",
      " -4.8979050e-01  2.6586127e-01  4.9781594e-01 -5.5228263e-01\n",
      "  1.9406296e+00  1.0369748e+00  2.1361454e+00 -9.2265499e-01\n",
      " -1.9215186e+00 -1.0984342e+00  7.6154262e-01  8.2822680e-01\n",
      " -6.5015036e-01 -5.7646668e-01  9.3752187e-01  1.2917703e+00\n",
      "  1.4428542e-03 -1.8448628e+00  1.4664515e+00  2.6143986e-01\n",
      "  1.6343244e+00  1.5308477e+00  1.1392382e+00  2.7018315e-01\n",
      "  1.3911008e+00 -3.6158633e-01  1.3006872e+00 -2.9908037e-01\n",
      " -1.7434940e+00  1.1519655e+00  4.7431079e-01  7.6003575e-01\n",
      " -4.5718226e-01 -1.3961911e+00  9.4889516e-01 -2.9400763e-01\n",
      "  8.0086142e-01 -8.0007684e-01 -4.0882677e-01 -8.5615814e-01\n",
      " -5.0224245e-01 -1.2404286e+00  1.9735326e+00 -9.5109832e-01\n",
      "  5.6321853e-01 -4.2934629e-01  9.8049575e-01  8.7537420e-01\n",
      " -5.6584603e-01  6.0822242e-01 -4.5282301e-01  2.1259220e+00\n",
      "  1.7756537e+00  7.2080106e-01 -5.9591132e-01  6.7197080e-03\n",
      " -6.5572608e-01  1.3438338e-01  6.6154861e-01 -1.4203959e+00\n",
      " -1.7409056e-01 -4.9730590e-01  1.0795332e-01 -4.4327110e-01\n",
      "  6.2241143e-01  1.8392646e+00 -7.7134407e-01  2.5458661e-01\n",
      " -7.8473210e-01  1.6265094e-01  5.1229668e-01  7.7735400e-01\n",
      "  3.5745102e-01 -7.1583509e-01  2.9116288e-01 -9.7675699e-01\n",
      "  9.8089628e-02  2.7218556e-01 -1.7741355e-01 -1.7695519e+00\n",
      " -1.8545280e-01  2.3769784e-01 -5.9006411e-01  1.3530161e+00\n",
      " -4.3000382e-01  8.7327939e-01 -1.0878521e+00  7.8033280e-01\n",
      "  3.4357107e-01  2.0096481e+00  3.3467433e-01 -6.0019773e-01\n",
      " -3.6768481e-01  2.7629237e+00 -2.7167790e+00  7.2952360e-01\n",
      "  1.2685107e-01 -2.7629163e+00  7.3021114e-01  1.7927066e+00\n",
      " -8.3975929e-01 -5.8922487e-01 -1.4810055e+00  8.2649320e-01\n",
      "  7.4228042e-01  9.6877599e-01  1.3314350e-01  2.5324689e-02\n",
      " -2.1373155e+00  3.7388954e+00 -9.7884595e-02 -1.0388192e+00\n",
      "  2.2717018e-01  1.4000456e+00  6.9632846e-01  2.0628412e+00\n",
      " -6.0766328e-02  6.3875371e-01 -7.1926433e-01 -2.4023709e-01\n",
      "  4.0495420e-01  1.5814379e+00 -1.3406342e-01 -1.6773937e+00\n",
      " -9.2437521e-02 -4.7414187e-01  8.3599764e-01 -4.9293321e-01\n",
      "  1.0090401e+00  2.3751150e-01  1.5677567e-01  1.3232961e-01\n",
      "  6.5033859e-01 -7.3560911e-01 -5.8366943e-02  1.2418617e+00\n",
      " -4.2817980e-01  8.4876084e-01 -8.4401399e-02 -1.0408355e+00\n",
      "  4.0630013e-01  1.6272110e+00  5.4831719e-03 -7.3700619e-01\n",
      "  1.2991963e-01 -3.9909887e-01 -8.8840419e-01 -9.7433919e-01\n",
      " -5.7373530e-01 -6.5222031e-01 -1.9342145e+00 -1.0742277e-01\n",
      "  1.0156863e+00  1.8644569e+00  3.4956235e-01 -6.1554208e-02\n",
      " -7.1288162e-01  1.5396242e+00 -9.5752436e-01 -1.9654287e+00\n",
      " -4.2488310e-01 -9.4647244e-02 -1.3127757e+00  1.0096342e-03\n",
      " -3.9568549e-01 -2.3879731e+00  3.9698592e-01  4.9082887e-01\n",
      " -2.5601830e+00 -1.4475159e-01  5.0452387e-01 -2.3662834e+00\n",
      "  1.4894708e-01 -3.5964099e-01 -7.3647833e-01  5.3243406e-02\n",
      " -2.0847121e-01 -2.2088890e+00 -5.4155376e-02 -1.5963522e-01]\n"
     ]
    }
   ],
   "source": [
    "print(model.wv['woman'])"
   ]
  },
  {
   "cell_type": "code",
   "execution_count": 69,
   "metadata": {},
   "outputs": [
    {
     "name": "stdout",
     "output_type": "stream",
     "text": [
      "[[0.69430226]]\n"
     ]
    }
   ],
   "source": [
    "print(cosine_similarity([model.wv['woman']],[model.wv['man']]))"
   ]
  },
  {
   "cell_type": "code",
   "execution_count": 70,
   "metadata": {},
   "outputs": [],
   "source": [
    "from nltk.corpus import wordnet_ic\n",
    "brown_ic = wordnet_ic.ic('ic-brown.dat')"
   ]
  },
  {
   "cell_type": "code",
   "execution_count": 71,
   "metadata": {},
   "outputs": [
    {
     "data": {
      "text/plain": [
       "7.911666509036577"
      ]
     },
     "execution_count": 71,
     "metadata": {},
     "output_type": "execute_result"
    }
   ],
   "source": [
    "dog.res_similarity(cat, brown_ic)"
   ]
  },
  {
   "cell_type": "code",
   "execution_count": null,
   "metadata": {},
   "outputs": [],
   "source": []
  }
 ],
 "metadata": {
  "kernelspec": {
   "display_name": "root-python3",
   "language": "python",
   "name": "root-python3"
  },
  "language_info": {
   "codemirror_mode": {
    "name": "ipython",
    "version": 3
   },
   "file_extension": ".py",
   "mimetype": "text/x-python",
   "name": "python",
   "nbconvert_exporter": "python",
   "pygments_lexer": "ipython3",
   "version": "3.6.5"
  }
 },
 "nbformat": 4,
 "nbformat_minor": 2
}
