{
 "cells": [
  {
   "cell_type": "code",
   "execution_count": 1,
   "metadata": {},
   "outputs": [
    {
     "name": "stderr",
     "output_type": "stream",
     "text": [
      "Using TensorFlow backend.\n",
      "/usr/local/lib/python3.6/site-packages/sklearn/cross_validation.py:41: DeprecationWarning: This module was deprecated in version 0.18 in favor of the model_selection module into which all the refactored classes and functions are moved. Also note that the interface of the new CV iterators are different from that of this module. This module will be removed in 0.20.\n",
      "  \"This module will be removed in 0.20.\", DeprecationWarning)\n"
     ]
    }
   ],
   "source": [
    "import tensorflow as tf\n",
    "from tensorflow import keras\n",
    "import numpy as np\n",
    "from utils import test_model"
   ]
  },
  {
   "cell_type": "code",
   "execution_count": 2,
   "metadata": {},
   "outputs": [
    {
     "name": "stdout",
     "output_type": "stream",
     "text": [
      "_________________________________________________________________\n",
      "Layer (type)                 Output Shape              Param #   \n",
      "=================================================================\n",
      "embedding (Embedding)        (None, None, 16)          2283888   \n",
      "_________________________________________________________________\n",
      "global_average_pooling1d (Gl (None, 16)                0         \n",
      "_________________________________________________________________\n",
      "dense (Dense)                (None, 16)                272       \n",
      "_________________________________________________________________\n",
      "dense_1 (Dense)              (None, 3)                 51        \n",
      "=================================================================\n",
      "Total params: 2,284,211\n",
      "Trainable params: 2,284,211\n",
      "Non-trainable params: 0\n",
      "_________________________________________________________________\n"
     ]
    }
   ],
   "source": [
    "vocab_size = 142743\n",
    "model = keras.Sequential()\n",
    "model.add(keras.layers.Embedding(vocab_size, 16))\n",
    "model.add(keras.layers.GlobalAveragePooling1D())\n",
    "model.add(keras.layers.Dense(16, activation=tf.nn.relu))\n",
    "model.add(keras.layers.Dense(3, activation=tf.nn.softmax))\n",
    "model.compile(optimizer=tf.train.AdamOptimizer(),\n",
    "              loss='categorical_crossentropy',\n",
    "              metrics=['accuracy'])\n",
    "model.summary()"
   ]
  },
  {
   "cell_type": "code",
   "execution_count": 3,
   "metadata": {},
   "outputs": [
    {
     "name": "stdout",
     "output_type": "stream",
     "text": [
      "Invalid sample:\n",
      "\"\t\n",
      "\n",
      "max len: 35\n",
      "vocab_size: 142743\n"
     ]
    }
   ],
   "source": [
    "from utils import load_data\n",
    "X_train, Y_train, X_val, Y_val, X_test, Y_test = load_data()"
   ]
  },
  {
   "cell_type": "code",
   "execution_count": 4,
   "metadata": {},
   "outputs": [
    {
     "name": "stdout",
     "output_type": "stream",
     "text": [
      "(40267, 35)\n",
      "(12284, 35)\n"
     ]
    }
   ],
   "source": [
    "print(X_train.shape)\n",
    "print(X_test.shape)"
   ]
  },
  {
   "cell_type": "code",
   "execution_count": 5,
   "metadata": {},
   "outputs": [
    {
     "name": "stdout",
     "output_type": "stream",
     "text": [
      "Train on 40267 samples, validate on 10067 samples\n",
      "Epoch 1/10\n",
      "40267/40267 [==============================] - 4s 109us/step - loss: 1.0076 - acc: 0.5006 - val_loss: 0.9461 - val_acc: 0.5698\n",
      "Epoch 2/10\n",
      "40267/40267 [==============================] - 4s 87us/step - loss: 0.8309 - acc: 0.6433 - val_loss: 0.8129 - val_acc: 0.6169\n",
      "Epoch 3/10\n",
      "40267/40267 [==============================] - 6s 138us/step - loss: 0.6107 - acc: 0.7477 - val_loss: 0.7753 - val_acc: 0.6412\n",
      "Epoch 4/10\n",
      "40267/40267 [==============================] - 4s 111us/step - loss: 0.4202 - acc: 0.8450 - val_loss: 0.7884 - val_acc: 0.6473\n",
      "Epoch 5/10\n",
      "40267/40267 [==============================] - 5s 116us/step - loss: 0.2719 - acc: 0.9116 - val_loss: 0.8358 - val_acc: 0.6474\n",
      "Epoch 6/10\n",
      "40267/40267 [==============================] - 5s 114us/step - loss: 0.1729 - acc: 0.9511 - val_loss: 0.9019 - val_acc: 0.6414\n",
      "Epoch 7/10\n",
      "40267/40267 [==============================] - 4s 96us/step - loss: 0.1131 - acc: 0.9706 - val_loss: 0.9821 - val_acc: 0.6353\n",
      "12284/12284 [==============================] - 0s 16us/step\n",
      "loss 1.1556979166067838\n",
      "acc 0.5243406057241334\n",
      "12284/12284 [==============================] - 0s 7us/step\n",
      "             precision    recall  f1-score   support\n",
      "\n",
      "          0       0.58      0.57      0.58      5937\n",
      "          1       0.38      0.65      0.48      2375\n",
      "          2       0.62      0.38      0.47      3972\n",
      "\n",
      "avg / total       0.56      0.52      0.52     12284\n",
      "\n"
     ]
    }
   ],
   "source": [
    "test_model(model,X_train, Y_train, X_val, Y_val, X_test, Y_test)"
   ]
  },
  {
   "cell_type": "code",
   "execution_count": 6,
   "metadata": {},
   "outputs": [
    {
     "name": "stdout",
     "output_type": "stream",
     "text": [
      "_________________________________________________________________\n",
      "Layer (type)                 Output Shape              Param #   \n",
      "=================================================================\n",
      "embedding_1 (Embedding)      (None, None, 16)          2283888   \n",
      "_________________________________________________________________\n",
      "global_average_pooling1d_1 ( (None, 16)                0         \n",
      "_________________________________________________________________\n",
      "dense_2 (Dense)              (None, 16)                272       \n",
      "_________________________________________________________________\n",
      "dense_3 (Dense)              (None, 3)                 51        \n",
      "=================================================================\n",
      "Total params: 2,284,211\n",
      "Trainable params: 2,284,211\n",
      "Non-trainable params: 0\n",
      "_________________________________________________________________\n"
     ]
    }
   ],
   "source": [
    "vocab_size = 142743\n",
    "model = keras.Sequential()\n",
    "model.add(keras.layers.Embedding(vocab_size, 16))\n",
    "model.add(keras.layers.GlobalAveragePooling1D())\n",
    "model.add(keras.layers.Dense(16, activation=tf.nn.relu))\n",
    "model.add(keras.layers.Dense(3, activation=tf.nn.softmax))\n",
    "model.summary()\n",
    "model.compile(optimizer=tf.train.AdamOptimizer(),\n",
    "  loss='binary_crossentropy',\n",
    "  metrics=['accuracy'])"
   ]
  },
  {
   "cell_type": "code",
   "execution_count": 7,
   "metadata": {},
   "outputs": [
    {
     "name": "stdout",
     "output_type": "stream",
     "text": [
      "Train on 40267 samples, validate on 10067 samples\n",
      "Epoch 1/10\n",
      "40267/40267 [==============================] - 5s 118us/step - loss: 0.5969 - acc: 0.6670 - val_loss: 0.5696 - val_acc: 0.6750\n",
      "Epoch 2/10\n",
      "40267/40267 [==============================] - 3s 86us/step - loss: 0.5148 - acc: 0.7477 - val_loss: 0.4930 - val_acc: 0.7532\n",
      "Epoch 3/10\n",
      "40267/40267 [==============================] - 3s 78us/step - loss: 0.3893 - acc: 0.8280 - val_loss: 0.4658 - val_acc: 0.7689\n",
      "Epoch 4/10\n",
      "40267/40267 [==============================] - 3s 77us/step - loss: 0.2728 - acc: 0.8932 - val_loss: 0.4767 - val_acc: 0.7714\n",
      "Epoch 5/10\n",
      "40267/40267 [==============================] - 3s 76us/step - loss: 0.1778 - acc: 0.9392 - val_loss: 0.5034 - val_acc: 0.7697\n",
      "Epoch 6/10\n",
      "40267/40267 [==============================] - 3s 76us/step - loss: 0.1132 - acc: 0.9654 - val_loss: 0.5437 - val_acc: 0.7652\n",
      "Epoch 7/10\n",
      "40267/40267 [==============================] - 3s 85us/step - loss: 0.0737 - acc: 0.9797 - val_loss: 0.5925 - val_acc: 0.7597\n",
      "Epoch 8/10\n",
      "40267/40267 [==============================] - 4s 92us/step - loss: 0.0497 - acc: 0.9875 - val_loss: 0.6422 - val_acc: 0.7583\n",
      "Epoch 9/10\n",
      "40267/40267 [==============================] - 3s 81us/step - loss: 0.0351 - acc: 0.9918 - val_loss: 0.6890 - val_acc: 0.7547\n",
      "Epoch 10/10\n",
      "40267/40267 [==============================] - 4s 90us/step - loss: 0.0259 - acc: 0.9943 - val_loss: 0.7331 - val_acc: 0.7523\n"
     ]
    }
   ],
   "source": [
    "history = model.fit(X_train,\n",
    "                    Y_train,\n",
    "                    epochs=10,\n",
    "                    batch_size=128,\n",
    "                    validation_data=(X_val, Y_val),\n",
    "                    verbose=1)"
   ]
  },
  {
   "cell_type": "code",
   "execution_count": 8,
   "metadata": {},
   "outputs": [
    {
     "name": "stdout",
     "output_type": "stream",
     "text": [
      "             precision    recall  f1-score   support\n",
      "\n",
      "    class 0       0.50      1.00      0.67         1\n",
      "    class 1       0.00      0.00      0.00         1\n",
      "    class 2       1.00      0.67      0.80         3\n",
      "\n",
      "avg / total       0.70      0.60      0.61         5\n",
      "\n"
     ]
    }
   ],
   "source": [
    "from sklearn.metrics import classification_report\n",
    "y_true = [0, 1, 2, 2, 2]\n",
    "y_pred = [0, 0, 2, 2, 1]\n",
    "target_names = ['class 0', 'class 1', 'class 2']\n",
    "print(classification_report(y_true, y_pred, target_names=target_names)) #默认输出weighted avg"
   ]
  },
  {
   "cell_type": "code",
   "execution_count": 9,
   "metadata": {},
   "outputs": [
    {
     "name": "stdout",
     "output_type": "stream",
     "text": [
      "12284/12284 [==============================] - 0s 9us/step\n",
      "             precision    recall  f1-score   support\n",
      "\n",
      "          0       0.58      0.58      0.58      5937\n",
      "          1       0.39      0.62      0.48      2375\n",
      "          2       0.60      0.39      0.48      3972\n",
      "\n",
      "avg / total       0.55      0.53      0.53     12284\n",
      "\n"
     ]
    }
   ],
   "source": [
    "from sklearn.metrics import classification_report\n",
    "Y_pred = model.predict(X_test, batch_size=128, verbose=1)\n",
    "Y_pred_bool = np.argmax(Y_pred, axis=1)\n",
    "Y_test_ = np.argmax(Y_test, axis=1)\n",
    "print(classification_report(Y_test_, Y_pred_bool))"
   ]
  },
  {
   "cell_type": "code",
   "execution_count": 10,
   "metadata": {},
   "outputs": [
    {
     "name": "stdout",
     "output_type": "stream",
     "text": [
      "12284/12284 [==============================] - 0s 19us/step\n",
      "loss 0.824854491685509\n",
      "acc 0.6882394520594374\n"
     ]
    }
   ],
   "source": [
    "results = model.evaluate(X_test, Y_test)\n",
    "print('loss',results[0])\n",
    "print('acc',results[1])"
   ]
  },
  {
   "cell_type": "code",
   "execution_count": 11,
   "metadata": {},
   "outputs": [],
   "source": [
    "#loss设置成了错误的二分类却得到了最高的准确率?\n",
    "#实际上不是，https://stackoverflow.com/questions/42081257/keras-binary-crossentropy-vs-categorical-crossentropy-performance\n",
    "#这种情况下，keras算出来的acc不对！"
   ]
  },
  {
   "cell_type": "markdown",
   "metadata": {},
   "source": [
    "https://github.com/LCorleone/text_sentiment_classification/blob/master/main.py"
   ]
  },
  {
   "cell_type": "code",
   "execution_count": 12,
   "metadata": {},
   "outputs": [],
   "source": [
    "from keras.preprocessing import sequence\n",
    "from keras.models import Sequential\n",
    "from keras.layers import Dense, Embedding\n",
    "from keras.layers import LSTM"
   ]
  },
  {
   "cell_type": "code",
   "execution_count": 13,
   "metadata": {},
   "outputs": [
    {
     "name": "stdout",
     "output_type": "stream",
     "text": [
      "_________________________________________________________________\n",
      "Layer (type)                 Output Shape              Param #   \n",
      "=================================================================\n",
      "embedding_1 (Embedding)      (None, None, 128)         18271104  \n",
      "_________________________________________________________________\n",
      "lstm_1 (LSTM)                (None, 128)               131584    \n",
      "_________________________________________________________________\n",
      "dense_1 (Dense)              (None, 3)                 387       \n",
      "=================================================================\n",
      "Total params: 18,403,075\n",
      "Trainable params: 18,403,075\n",
      "Non-trainable params: 0\n",
      "_________________________________________________________________\n"
     ]
    }
   ],
   "source": [
    "# 建立模型\n",
    "model = Sequential()\n",
    "model.add(Embedding(vocab_size, 128))\n",
    "model.add(LSTM(128,dropout=0.2, recurrent_dropout=0.2)) \n",
    "model.add(Dense(3,activation='softmax'))\n",
    "model.compile(loss='categorical_crossentropy',\n",
    "              optimizer='rmsprop',\n",
    "              metrics=['accuracy'])\n",
    "model.summary()"
   ]
  },
  {
   "cell_type": "code",
   "execution_count": 14,
   "metadata": {},
   "outputs": [
    {
     "name": "stdout",
     "output_type": "stream",
     "text": [
      "Train on 40267 samples, validate on 10067 samples\n",
      "Epoch 1/10\n",
      "40267/40267 [==============================] - 110s 3ms/step - loss: 0.9016 - acc: 0.5587 - val_loss: 0.7956 - val_acc: 0.6246\n",
      "Epoch 2/10\n",
      "40267/40267 [==============================] - 105s 3ms/step - loss: 0.6639 - acc: 0.7163 - val_loss: 0.7791 - val_acc: 0.6460\n",
      "Epoch 3/10\n",
      "40267/40267 [==============================] - 98s 2ms/step - loss: 0.4923 - acc: 0.8062 - val_loss: 0.8246 - val_acc: 0.6495\n",
      "Epoch 4/10\n",
      "40267/40267 [==============================] - 105s 3ms/step - loss: 0.3513 - acc: 0.8684 - val_loss: 0.9608 - val_acc: 0.6189\n",
      "Epoch 5/10\n",
      "40267/40267 [==============================] - 105s 3ms/step - loss: 0.2445 - acc: 0.9125 - val_loss: 0.9661 - val_acc: 0.6227\n",
      "Epoch 6/10\n",
      "40267/40267 [==============================] - 108s 3ms/step - loss: 0.1794 - acc: 0.9369 - val_loss: 1.0357 - val_acc: 0.6177\n",
      "12284/12284 [==============================] - 7s 558us/step\n",
      "loss 1.1483279107176725\n",
      "acc 0.5467274503030904\n",
      "12284/12284 [==============================] - 5s 407us/step\n",
      "             precision    recall  f1-score   support\n",
      "\n",
      "          0       0.56      0.67      0.61      5937\n",
      "          1       0.48      0.46      0.47      2375\n",
      "          2       0.56      0.41      0.47      3972\n",
      "\n",
      "avg / total       0.55      0.55      0.54     12284\n",
      "\n"
     ]
    },
    {
     "data": {
      "image/png": "[encoded data removed]",
      "text/plain": [
       "<matplotlib.figure.Figure at 0x11e791b00>"
      ]
     },
     "metadata": {},
     "output_type": "display_data"
    },
    {
     "data": {
      "image/png": "[encoded data removed]",
      "text/plain": [
       "<matplotlib.figure.Figure at 0x103b87b00>"
      ]
     },
     "metadata": {},
     "output_type": "display_data"
    }
   ],
   "source": [
    "test_model(model,X_train, Y_train, X_val, Y_val, X_test, Y_test,verbose=True)"
   ]
  },
  {
   "cell_type": "code",
   "execution_count": 15,
   "metadata": {},
   "outputs": [
    {
     "name": "stdout",
     "output_type": "stream",
     "text": [
      "12284/12284 [==============================] - 7s 584us/step\n",
      "loss 1.1483279107176725\n",
      "acc 0.5467274503030904\n"
     ]
    }
   ],
   "source": [
    "results = model.evaluate(X_test, Y_test)\n",
    "print('loss',results[0])\n",
    "print('acc',results[1])"
   ]
  },
  {
   "cell_type": "code",
   "execution_count": 16,
   "metadata": {},
   "outputs": [],
   "source": [
    "def plot_history(histories, key='binary_crossentropy'):\n",
    "    plt.figure(figsize=(16,10))\n",
    "\n",
    "    for name, history in histories:\n",
    "        val = plt.plot(history.epoch, history.history['val_'+key],\n",
    "                       '--', label=name.title()+' Val')\n",
    "        plt.plot(history.epoch, history.history[key], color=val[0].get_color(),\n",
    "                 label=name.title()+' Train')\n",
    "\n",
    "        plt.xlabel('Epochs')\n",
    "        plt.ylabel(key.replace('_',' ').title())\n",
    "        plt.legend()\n",
    "\n",
    "        plt.xlim([0,max(history.epoch)])"
   ]
  },
  {
   "cell_type": "code",
   "execution_count": 17,
   "metadata": {},
   "outputs": [
    {
     "name": "stdout",
     "output_type": "stream",
     "text": [
      "_________________________________________________________________\n",
      "Layer (type)                 Output Shape              Param #   \n",
      "=================================================================\n",
      "embedding_2 (Embedding)      (None, None, 16)          2283888   \n",
      "_________________________________________________________________\n",
      "global_average_pooling1d_2 ( (None, 16)                0         \n",
      "_________________________________________________________________\n",
      "dropout (Dropout)            (None, 16)                0         \n",
      "_________________________________________________________________\n",
      "dense_4 (Dense)              (None, 16)                272       \n",
      "_________________________________________________________________\n",
      "dropout_1 (Dropout)          (None, 16)                0         \n",
      "_________________________________________________________________\n",
      "dense_5 (Dense)              (None, 3)                 51        \n",
      "=================================================================\n",
      "Total params: 2,284,211\n",
      "Trainable params: 2,284,211\n",
      "Non-trainable params: 0\n",
      "_________________________________________________________________\n"
     ]
    }
   ],
   "source": [
    "vocab_size = 142743\n",
    "model = keras.Sequential()\n",
    "model.add(keras.layers.Embedding(vocab_size, 16))\n",
    "model.add(keras.layers.GlobalAveragePooling1D())\n",
    "model.add(keras.layers.Dropout(0.5))\n",
    "model.add(keras.layers.Dense(16, kernel_regularizer=keras.regularizers.l2(0.001),activation=tf.nn.relu))\n",
    "model.add(keras.layers.Dropout(0.5))\n",
    "model.add(keras.layers.Dense(3, kernel_regularizer=keras.regularizers.l2(0.001),activation=tf.nn.softmax)) #正则项只会在训练时参与计算，因此测试的loss一般低于训练。\n",
    "model.summary()\n",
    "model.compile(optimizer=tf.train.AdamOptimizer(),\n",
    "              loss='categorical_crossentropy',\n",
    "              metrics=['accuracy'])"
   ]
  },
  {
   "cell_type": "code",
   "execution_count": 18,
   "metadata": {},
   "outputs": [
    {
     "name": "stdout",
     "output_type": "stream",
     "text": [
      "Train on 40267 samples, validate on 10067 samples\n",
      "Epoch 1/10\n",
      "40267/40267 [==============================] - 5s 114us/step - loss: 1.0462 - acc: 0.4463 - val_loss: 1.0138 - val_acc: 0.4486\n",
      "Epoch 2/10\n",
      "40267/40267 [==============================] - 4s 87us/step - loss: 1.0143 - acc: 0.4670 - val_loss: 0.9922 - val_acc: 0.5233\n",
      "Epoch 3/10\n",
      "40267/40267 [==============================] - 4s 97us/step - loss: 0.9652 - acc: 0.5534 - val_loss: 0.9356 - val_acc: 0.5966\n",
      "Epoch 4/10\n",
      "40267/40267 [==============================] - 4s 104us/step - loss: 0.8850 - acc: 0.6228 - val_loss: 0.8930 - val_acc: 0.6148\n",
      "Epoch 5/10\n",
      "40267/40267 [==============================] - 4s 97us/step - loss: 0.8155 - acc: 0.6637 - val_loss: 0.8747 - val_acc: 0.6204\n",
      "Epoch 6/10\n",
      "40267/40267 [==============================] - 4s 93us/step - loss: 0.7523 - acc: 0.7132 - val_loss: 0.8714 - val_acc: 0.6321\n",
      "Epoch 7/10\n",
      "40267/40267 [==============================] - 4s 87us/step - loss: 0.7009 - acc: 0.7589 - val_loss: 0.8775 - val_acc: 0.6378\n",
      "Epoch 8/10\n",
      "40267/40267 [==============================] - 3s 85us/step - loss: 0.6563 - acc: 0.7980 - val_loss: 0.8885 - val_acc: 0.6425\n",
      "Epoch 9/10\n",
      "40267/40267 [==============================] - 4s 96us/step - loss: 0.6180 - acc: 0.8271 - val_loss: 0.9033 - val_acc: 0.6443\n",
      "Epoch 10/10\n",
      "40267/40267 [==============================] - 4s 89us/step - loss: 0.5882 - acc: 0.8440 - val_loss: 0.9188 - val_acc: 0.6432\n",
      "12284/12284 [==============================] - 0s 16us/step\n",
      "loss 1.1168139085285207\n",
      "acc 0.5293064148874013\n",
      "12284/12284 [==============================] - 0s 14us/step\n",
      "             precision    recall  f1-score   support\n",
      "\n",
      "          0       0.57      0.68      0.62      5937\n",
      "          1       0.39      0.63      0.48      2375\n",
      "          2       0.69      0.24      0.36      3972\n",
      "\n",
      "avg / total       0.58      0.53      0.51     12284\n",
      "\n"
     ]
    },
    {
     "data": {
      "image/png": "[encoded data removed]",
      "text/plain": [
       "<matplotlib.figure.Figure at 0x103bc9da0>"
      ]
     },
     "metadata": {},
     "output_type": "display_data"
    },
    {
     "data": {
      "image/png": "[encoded data removed]",
      "text/plain": [
       "<matplotlib.figure.Figure at 0x117ed4978>"
      ]
     },
     "metadata": {},
     "output_type": "display_data"
    }
   ],
   "source": [
    "test_model(model,X_train, Y_train, X_val, Y_val, X_test, Y_test,verbose=True)"
   ]
  },
  {
   "cell_type": "code",
   "execution_count": 19,
   "metadata": {},
   "outputs": [
    {
     "name": "stdout",
     "output_type": "stream",
     "text": [
      "_________________________________________________________________\n",
      "Layer (type)                 Output Shape              Param #   \n",
      "=================================================================\n",
      "embedding_3 (Embedding)      (None, None, 200)         28548600  \n",
      "_________________________________________________________________\n",
      "global_average_pooling1d_3 ( (None, 200)               0         \n",
      "_________________________________________________________________\n",
      "dropout_2 (Dropout)          (None, 200)               0         \n",
      "_________________________________________________________________\n",
      "dense_6 (Dense)              (None, 16)                3216      \n",
      "_________________________________________________________________\n",
      "dropout_3 (Dropout)          (None, 16)                0         \n",
      "_________________________________________________________________\n",
      "dense_7 (Dense)              (None, 3)                 51        \n",
      "=================================================================\n",
      "Total params: 28,551,867\n",
      "Trainable params: 28,551,867\n",
      "Non-trainable params: 0\n",
      "_________________________________________________________________\n"
     ]
    }
   ],
   "source": [
    "vocab_size = 142743\n",
    "model = keras.Sequential()\n",
    "model.add(keras.layers.Embedding(vocab_size, 200))\n",
    "model.add(keras.layers.GlobalAveragePooling1D())\n",
    "model.add(keras.layers.Dropout(0.5))\n",
    "model.add(keras.layers.Dense(16, kernel_regularizer=keras.regularizers.l2(0.001),activation=tf.nn.relu))\n",
    "model.add(keras.layers.Dropout(0.5))\n",
    "model.add(keras.layers.Dense(3, kernel_regularizer=keras.regularizers.l2(0.001),activation=tf.nn.softmax)) #正则项只会在训练时参与计算，因此测试的loss一般低于训练。\n",
    "model.summary()\n",
    "model.compile(optimizer=tf.train.AdamOptimizer(),\n",
    "              loss='categorical_crossentropy',\n",
    "              metrics=['accuracy'])"
   ]
  },
  {
   "cell_type": "code",
   "execution_count": 20,
   "metadata": {},
   "outputs": [
    {
     "name": "stdout",
     "output_type": "stream",
     "text": [
      "Train on 40267 samples, validate on 10067 samples\n",
      "Epoch 1/10\n",
      "40267/40267 [==============================] - 53s 1ms/step - loss: 1.0405 - acc: 0.4541 - val_loss: 0.9762 - val_acc: 0.5689\n",
      "Epoch 2/10\n",
      "40267/40267 [==============================] - 49s 1ms/step - loss: 0.9228 - acc: 0.5862 - val_loss: 0.8782 - val_acc: 0.6175\n",
      "Epoch 3/10\n",
      "40267/40267 [==============================] - 53s 1ms/step - loss: 0.8107 - acc: 0.6615 - val_loss: 0.8523 - val_acc: 0.6232\n",
      "Epoch 4/10\n",
      "40267/40267 [==============================] - 64s 2ms/step - loss: 0.7107 - acc: 0.7061 - val_loss: 0.8538 - val_acc: 0.6237\n",
      "Epoch 5/10\n",
      "40267/40267 [==============================] - 55s 1ms/step - loss: 0.6265 - acc: 0.7366 - val_loss: 0.8724 - val_acc: 0.6222\n",
      "Epoch 6/10\n",
      "40267/40267 [==============================] - 51s 1ms/step - loss: 0.5638 - acc: 0.7750 - val_loss: 0.8982 - val_acc: 0.6258\n",
      "Epoch 7/10\n",
      "40267/40267 [==============================] - 47s 1ms/step - loss: 0.5154 - acc: 0.8201 - val_loss: 0.9290 - val_acc: 0.6324\n",
      "12284/12284 [==============================] - 0s 30us/step\n",
      "loss 1.0853586406709317\n",
      "acc 0.522956691689617\n",
      "12284/12284 [==============================] - 0s 35us/step\n",
      "             precision    recall  f1-score   support\n",
      "\n",
      "          0       0.56      0.70      0.62      5937\n",
      "          1       0.40      0.62      0.49      2375\n",
      "          2       0.67      0.20      0.31      3972\n",
      "\n",
      "avg / total       0.57      0.52      0.49     12284\n",
      "\n"
     ]
    },
    {
     "data": {
      "image/png": "[encoded data removed]",
      "text/plain": [
       "<matplotlib.figure.Figure at 0x117eacef0>"
      ]
     },
     "metadata": {},
     "output_type": "display_data"
    },
    {
     "data": {
      "image/png": "[encoded data removed]",
      "text/plain": [
       "<matplotlib.figure.Figure at 0x11e8dd898>"
      ]
     },
     "metadata": {},
     "output_type": "display_data"
    }
   ],
   "source": [
    "test_model(model,X_train, Y_train, X_val, Y_val, X_test, Y_test,verbose=True)"
   ]
  },
  {
   "cell_type": "code",
   "execution_count": 21,
   "metadata": {},
   "outputs": [],
   "source": []
  },
  {
   "cell_type": "code",
   "execution_count": 22,
   "metadata": {},
   "outputs": [],
   "source": [
    "# https://github.com/cbaziotis/datastories-semeval2017-task4/blob/master/models/nn_models.py"
   ]
  },
  {
   "cell_type": "code",
   "execution_count": 23,
   "metadata": {},
   "outputs": [],
   "source": [
    "# https://machinelearningmastery.com/return-sequences-and-return-states-for-lstms-in-keras/"
   ]
  },
  {
   "cell_type": "markdown",
   "metadata": {},
   "source": [
    "不要用tf.keras，目前还有bug"
   ]
  },
  {
   "cell_type": "code",
   "execution_count": 24,
   "metadata": {},
   "outputs": [
    {
     "name": "stdout",
     "output_type": "stream",
     "text": [
      "_________________________________________________________________\n",
      "Layer (type)                 Output Shape              Param #   \n",
      "=================================================================\n",
      "embedding_2 (Embedding)      (None, None, 200)         28548600  \n",
      "_________________________________________________________________\n",
      "dropout_1 (Dropout)          (None, None, 200)         0         \n",
      "_________________________________________________________________\n",
      "bidirectional_1 (Bidirection (None, 256)               336896    \n",
      "_________________________________________________________________\n",
      "dense_2 (Dense)              (None, 64)                16448     \n",
      "_________________________________________________________________\n",
      "dropout_2 (Dropout)          (None, 64)                0         \n",
      "_________________________________________________________________\n",
      "dense_3 (Dense)              (None, 3)                 195       \n",
      "=================================================================\n",
      "Total params: 28,902,139\n",
      "Trainable params: 28,902,139\n",
      "Non-trainable params: 0\n",
      "_________________________________________________________________\n"
     ]
    }
   ],
   "source": [
    "from keras.layers import LSTM,Bidirectional,Embedding,Dropout\n",
    "from keras.models import Sequential\n",
    "ocab_size = 142743\n",
    "model = Sequential()\n",
    "model.add(Embedding(vocab_size, 200))\n",
    "model.add(Dropout(0.5))\n",
    "model.add(Bidirectional(LSTM(128,recurrent_dropout=0.1,recurrent_activation = 'sigmoid')))\n",
    "model.add(Dense(64, kernel_regularizer=keras.regularizers.l2(0.001),activation=tf.nn.relu))\n",
    "model.add(Dropout(0.2))\n",
    "model.add(Dense(3, kernel_regularizer=keras.regularizers.l2(0.001),activation=tf.nn.softmax)) #正则项只会在训练时参与计算，因此测试的loss一般低于训练。\n",
    "model.summary()\n",
    "model.compile(optimizer=tf.train.AdamOptimizer(),\n",
    "              loss='categorical_crossentropy',\n",
    "              metrics=['accuracy'])"
   ]
  },
  {
   "cell_type": "code",
   "execution_count": 25,
   "metadata": {},
   "outputs": [
    {
     "name": "stdout",
     "output_type": "stream",
     "text": [
      "Train on 40267 samples, validate on 10067 samples\n",
      "Epoch 1/10\n",
      "40267/40267 [==============================] - 147s 4ms/step - loss: 0.9261 - acc: 0.5634 - val_loss: 0.7929 - val_acc: 0.6376\n",
      "Epoch 2/10\n",
      "40267/40267 [==============================] - 153s 4ms/step - loss: 0.5769 - acc: 0.7713 - val_loss: 0.8232 - val_acc: 0.6440\n",
      "Epoch 3/10\n",
      "40267/40267 [==============================] - 178s 4ms/step - loss: 0.2752 - acc: 0.9055 - val_loss: 0.9731 - val_acc: 0.6224\n",
      "Epoch 4/10\n",
      "40267/40267 [==============================] - 148s 4ms/step - loss: 0.1436 - acc: 0.9562 - val_loss: 1.1147 - val_acc: 0.6210\n",
      "Epoch 5/10\n",
      "40267/40267 [==============================] - 133s 3ms/step - loss: 0.0888 - acc: 0.9754 - val_loss: 1.3575 - val_acc: 0.6028\n",
      "12284/12284 [==============================] - 8s 615us/step\n",
      "loss 1.510301554796945\n",
      "acc 0.508629111048454\n",
      "12284/12284 [==============================] - 7s 603us/step\n",
      "             precision    recall  f1-score   support\n",
      "\n",
      "          0       0.58      0.49      0.53      5937\n",
      "          1       0.40      0.61      0.48      2375\n",
      "          2       0.52      0.48      0.50      3972\n",
      "\n",
      "avg / total       0.53      0.51      0.51     12284\n",
      "\n"
     ]
    },
    {
     "data": {
      "image/png": "[encoded data removed]",
      "text/plain": [
       "<matplotlib.figure.Figure at 0x138da6358>"
      ]
     },
     "metadata": {},
     "output_type": "display_data"
    },
    {
     "data": {
      "image/png": "[encoded data removed]",
      "text/plain": [
       "<matplotlib.figure.Figure at 0x12226eeb8>"
      ]
     },
     "metadata": {},
     "output_type": "display_data"
    }
   ],
   "source": [
    "test_model(model,X_train, Y_train, X_val, Y_val, X_test, Y_test,verbose=True)"
   ]
  },
  {
   "cell_type": "markdown",
   "metadata": {},
   "source": [
    "BiLSTM过拟合很严重。"
   ]
  },
  {
   "cell_type": "markdown",
   "metadata": {},
   "source": [
    "https://machinelearningmastery.com/sequence-classification-lstm-recurrent-neural-networks-python-keras/"
   ]
  },
  {
   "cell_type": "markdown",
   "metadata": {},
   "source": [
    "import numpy as np\n",
    "import keras\n",
    "import tensorflow as tf\n",
    "from keras.layers import LSTM,Bidirectional,Embedding,Dropout,Dense\n",
    "from keras.models import Sequential\n",
    "from keras.layers.convolutional import Conv1D\n",
    "from keras.layers.convolutional import MaxPooling1D\n",
    "\n",
    "from utils import load_data\n",
    "X_train, Y_train, X_val, Y_val, X_test, Y_test = load_data()\n",
    "\n",
    "def test_model(model,verbose = False):\n",
    "    history = model.fit(X_train,\n",
    "                    Y_train,\n",
    "                    epochs=10,\n",
    "                    batch_size=128,\n",
    "                    validation_data=(X_val, Y_val),\n",
    "                    verbose=1)\n",
    "    results = model.evaluate(X_test, Y_test)\n",
    "    print('loss',results[0])\n",
    "    print('acc',results[1])\n",
    "    if verbose:\n",
    "        history_dict = history.history\n",
    "        acc = history.history['acc']\n",
    "        val_acc = history.history['val_acc']\n",
    "        loss = history.history['loss']\n",
    "        val_loss = history.history['val_loss']\n",
    "\n",
    "        epochs = range(1, len(acc) + 1)\n",
    "\n",
    "        # \"bo\" is for \"blue dot\"\n",
    "        plt.figure(0)\n",
    "        plt.plot(epochs, loss, 'bo', label='Training loss')\n",
    "        # b is for \"solid blue line\"\n",
    "        plt.plot(epochs, val_loss, 'b', label='Validation loss')\n",
    "        plt.title('Training and validation loss')\n",
    "        plt.xlabel('Epochs')\n",
    "        plt.ylabel('Loss')\n",
    "        plt.legend()\n",
    "\n",
    "        plt.show()\n",
    "        \n",
    "        plt.figure(1)\n",
    "        acc_values = history_dict['acc']\n",
    "        val_acc_values = history_dict['val_acc']\n",
    "\n",
    "        plt.plot(epochs, acc, 'bo', label='Training acc')\n",
    "        plt.plot(epochs, val_acc, 'b', label='Validation acc')\n",
    "        plt.title('Training and validation accuracy')\n",
    "        plt.xlabel('Epochs')\n",
    "        plt.ylabel('Accuracy')\n",
    "        plt.legend()\n",
    "\n",
    "        plt.show()\n",
    "        \n",
    "        \n",
    "vocab_size = 142743\n",
    "model = Sequential()\n",
    "model.add(Embedding(vocab_size, 200))\n",
    "model.add(Conv1D(filters=32, kernel_size=3, padding='same', activation='relu'))\n",
    "model.add(MaxPooling1D(pool_size=2))\n",
    "model.add(LSTM(100,recurrent_dropout=0.2,recurrent_activation = 'sigmoid'))\n",
    "model.add(Dense(64, kernel_regularizer=keras.regularizers.l2(0.001),activation=tf.nn.relu))\n",
    "model.add(Dropout(0.2))\n",
    "model.add(Dense(3, kernel_regularizer=keras.regularizers.l2(0.001),activation=tf.nn.softmax))\n",
    "model.summary()\n",
    "model.compile(optimizer=tf.train.AdamOptimizer(),\n",
    "              loss='categorical_crossentropy',\n",
    "              metrics=['accuracy'])\n",
    "test_model(model)"
   ]
  },
  {
   "cell_type": "markdown",
   "metadata": {},
   "source": [
    "embedding_1 (Embedding)      (None, None, 200)         28548600\n",
    "_________________________________________________________________\n",
    "conv1d_1 (Conv1D)            (None, None, 32)          19232\n",
    "_________________________________________________________________\n",
    "max_pooling1d_1 (MaxPooling1 (None, None, 32)          0\n",
    "_________________________________________________________________\n",
    "lstm_1 (LSTM)                (None, 100)               53200\n",
    "_________________________________________________________________\n",
    "dense_1 (Dense)              (None, 64)                6464\n",
    "_________________________________________________________________\n",
    "dropout_1 (Dropout)          (None, 64)                0\n",
    "_________________________________________________________________\n",
    "dense_2 (Dense)              (None, 3)                 195\n",
    "=================================================================\n",
    "Total params: 28,627,691\n",
    "Trainable params: 28,627,691\n",
    "Non-trainable params: 0\n",
    "_________________________________________________________________\n",
    "Train on 40267 samples, validate on 10067 samples\n",
    "Epoch 1/10\n",
    "2019-04-13 18:18:38.810158: I tensorflow/core/platform/cpu_feature_guard.cc:141] Your CPU supports instructions that this TensorFlow binary was not compiled to use: AVX2 FMA\n",
    "40267/40267 [==============================] - 24s 603us/step - loss: 0.9285 - acc: 0.5534 - val_loss: 0.8016 - val_acc: 0.6296\n",
    "Epoch 2/10\n",
    "40267/40267 [==============================] - 23s 562us/step - loss: 0.5041 - acc: 0.8054 - val_loss: 0.8752 - val_acc: 0.6230\n",
    "Epoch 3/10\n",
    "40267/40267 [==============================] - 23s 559us/step - loss: 0.1615 - acc: 0.9504 - val_loss: 1.1403 - val_acc: 0.6086\n",
    "Epoch 4/10\n",
    "40267/40267 [==============================] - 22s 556us/step - loss: 0.0708 - acc: 0.9837 - val_loss: 1.3891 - val_acc: 0.6048\n",
    "Epoch 5/10\n",
    "40267/40267 [==============================] - 23s 559us/step - loss: 0.0412 - acc: 0.9926 - val_loss: 1.5847 - val_acc: 0.6078\n",
    "Epoch 6/10\n",
    "40267/40267 [==============================] - 22s 554us/step - loss: 0.0304 - acc: 0.9954 - val_loss: 1.5653 - val_acc: 0.6009\n",
    "Epoch 7/10\n",
    "40267/40267 [==============================] - 23s 561us/step - loss: 0.0249 - acc: 0.9967 - val_loss: 1.6710 - val_acc: 0.6054\n",
    "Epoch 8/10\n",
    "40267/40267 [==============================] - 23s 562us/step - loss: 0.0198 - acc: 0.9977 - val_loss: 1.6953 - val_acc: 0.6025\n",
    "Epoch 9/10\n",
    "40267/40267 [==============================] - 22s 556us/step - loss: 0.0188 - acc: 0.9978 - val_loss: 1.7207 - val_acc: 0.6005\n",
    "Epoch 10/10\n",
    "40267/40267 [==============================] - 23s 560us/step - loss: 0.0166 - acc: 0.9981 - val_loss: 1.8360 - val_acc: 0.6026\n",
    "12284/12284 [==============================] - 2s 133us/step\n",
    "loss 2.0839636757489486\n",
    "acc 0.5159557147120777"
   ]
  },
  {
   "cell_type": "markdown",
   "metadata": {},
   "source": [
    "理解Conv1D:https://stackoverflow.com/questions/43396572/dimension-of-shape-in-conv1d\n",
    "\n",
    "https://www.programcreek.com/python/example/89676/keras.layers.Conv1D\n"
   ]
  },
  {
   "cell_type": "markdown",
   "metadata": {},
   "source": [
    "https://github.com/keras-team/keras/blob/master/examples/imdb_cnn_lstm.py"
   ]
  },
  {
   "cell_type": "markdown",
   "metadata": {},
   "source": [
    "import numpy as np\n",
    "import keras\n",
    "import tensorflow as tf\n",
    "from keras.layers import LSTM,Bidirectional,Embedding,Dropout,Dense\n",
    "from keras.models import Sequential\n",
    "from keras.layers.convolutional import Conv1D\n",
    "from keras.layers.convolutional import MaxPooling1D\n",
    "\n",
    "from utils import load_data\n",
    "X_train, Y_train, X_val, Y_val, X_test, Y_test = load_data()\n",
    "\n",
    "def test_model(model,verbose = False):\n",
    "    history = model.fit(X_train,\n",
    "                    Y_train,\n",
    "                    epochs=10,\n",
    "                    batch_size=128,\n",
    "                    validation_data=(X_val, Y_val),\n",
    "                    verbose=1)\n",
    "    results = model.evaluate(X_test, Y_test)\n",
    "    print('loss',results[0])\n",
    "    print('acc',results[1])\n",
    "    if verbose:\n",
    "        history_dict = history.history\n",
    "        acc = history.history['acc']\n",
    "        val_acc = history.history['val_acc']\n",
    "        loss = history.history['loss']\n",
    "        val_loss = history.history['val_loss']\n",
    "\n",
    "        epochs = range(1, len(acc) + 1)\n",
    "\n",
    "        # \"bo\" is for \"blue dot\"\n",
    "        plt.figure(0)\n",
    "        plt.plot(epochs, loss, 'bo', label='Training loss')\n",
    "        # b is for \"solid blue line\"\n",
    "        plt.plot(epochs, val_loss, 'b', label='Validation loss')\n",
    "        plt.title('Training and validation loss')\n",
    "        plt.xlabel('Epochs')\n",
    "        plt.ylabel('Loss')\n",
    "        plt.legend()\n",
    "\n",
    "        plt.show()\n",
    "        \n",
    "        plt.figure(1)\n",
    "        acc_values = history_dict['acc']\n",
    "        val_acc_values = history_dict['val_acc']\n",
    "\n",
    "        plt.plot(epochs, acc, 'bo', label='Training acc')\n",
    "        plt.plot(epochs, val_acc, 'b', label='Validation acc')\n",
    "        plt.title('Training and validation accuracy')\n",
    "        plt.xlabel('Epochs')\n",
    "        plt.ylabel('Accuracy')\n",
    "        plt.legend()\n",
    "\n",
    "        plt.show()\n",
    "        \n",
    "        \n",
    "vocab_size = 142743\n",
    "model = Sequential()\n",
    "model.add(Embedding(vocab_size, 200))\n",
    "model.add(Dropout(0.3))\n",
    "model.add(Conv1D(filters=32, kernel_size=3, padding='same', activation='relu'))\n",
    "model.add(MaxPooling1D(pool_size=2))\n",
    "model.add(LSTM(100,recurrent_dropout=0.2,recurrent_activation = 'sigmoid'))\n",
    "model.add(Dense(32, kernel_regularizer=keras.regularizers.l2(0.001),activation=tf.nn.relu))\n",
    "model.add(Dropout(0.2))\n",
    "model.add(Dense(3, kernel_regularizer=keras.regularizers.l2(0.001),activation=tf.nn.softmax))\n",
    "model.summary()\n",
    "model.compile(optimizer=tf.train.AdamOptimizer(),\n",
    "              loss='categorical_crossentropy',\n",
    "              metrics=['accuracy'])\n",
    "test_model(model)"
   ]
  },
  {
   "cell_type": "code",
   "execution_count": null,
   "metadata": {},
   "outputs": [],
   "source": [
    "#3块GPU跑的"
   ]
  },
  {
   "cell_type": "markdown",
   "metadata": {},
   "source": [
    "embedding_1 (Embedding)      (None, None, 200)         28548600\n",
    "_________________________________________________________________\n",
    "dropout_1 (Dropout)          (None, None, 200)         0\n",
    "_________________________________________________________________\n",
    "conv1d_1 (Conv1D)            (None, None, 32)          19232\n",
    "_________________________________________________________________\n",
    "max_pooling1d_1 (MaxPooling1 (None, None, 32)          0\n",
    "_________________________________________________________________\n",
    "lstm_1 (LSTM)                (None, 100)               53200\n",
    "_________________________________________________________________\n",
    "dense_1 (Dense)              (None, 32)                3232\n",
    "_________________________________________________________________\n",
    "dropout_2 (Dropout)          (None, 32)                0\n",
    "_________________________________________________________________\n",
    "dense_2 (Dense)              (None, 3)                 99\n",
    "=================================================================\n",
    "Total params: 28,624,363\n",
    "Trainable params: 28,624,363\n",
    "Non-trainable params: 0\n",
    "_________________________________________________________________\n",
    "Train on 40267 samples, validate on 10067 samples\n",
    "Epoch 1/10\n",
    "2019-04-13 18:03:03.253787: I tensorflow/core/platform/cpu_feature_guard.cc:141] Your CPU supports instructions that this TensorFlow binary was not compiled to use: AVX2 FMA\n",
    "40267/40267 [==============================] - 25s 612us/step - loss: 0.9285 - acc: 0.5542 - val_loss: 0.7865 - val_acc: 0.6482\n",
    "Epoch 2/10\n",
    "40267/40267 [==============================] - 23s 574us/step - loss: 0.5593 - acc: 0.7803 - val_loss: 0.8260 - val_acc: 0.6390\n",
    "Epoch 3/10\n",
    "40267/40267 [==============================] - 23s 575us/step - loss: 0.2266 - acc: 0.9267 - val_loss: 1.1090 - val_acc: 0.6131\n",
    "Epoch 4/10\n",
    "40267/40267 [==============================] - 23s 574us/step - loss: 0.0981 - acc: 0.9733 - val_loss: 1.2949 - val_acc: 0.6042\n",
    "Epoch 5/10\n",
    "40267/40267 [==============================] - 23s 570us/step - loss: 0.0571 - acc: 0.9874 - val_loss: 1.5603 - val_acc: 0.6040\n",
    "Epoch 6/10\n",
    "40267/40267 [==============================] - 23s 566us/step - loss: 0.0393 - acc: 0.9928 - val_loss: 1.6671 - val_acc: 0.5955\n",
    "Epoch 7/10\n",
    "40267/40267 [==============================] - 23s 566us/step - loss: 0.0316 - acc: 0.9947 - val_loss: 1.8620 - val_acc: 0.6004\n",
    "Epoch 8/10\n",
    "40267/40267 [==============================] - 23s 573us/step - loss: 0.0273 - acc: 0.9961 - val_loss: 1.8006 - val_acc: 0.6010\n",
    "Epoch 9/10\n",
    "40267/40267 [==============================] - 23s 567us/step - loss: 0.0240 - acc: 0.9964 - val_loss: 1.8105 - val_acc: 0.5924\n",
    "Epoch 10/10\n",
    "40267/40267 [==============================] - 23s 567us/step - loss: 0.0209 - acc: 0.9974 - val_loss: 1.9575 - val_acc: 0.5955\n",
    "12284/12284 [==============================] - 2s 134us/step\n",
    "loss 2.2763141728658622\n",
    "acc 0.4736242266265704"
   ]
  },
  {
   "cell_type": "code",
   "execution_count": null,
   "metadata": {},
   "outputs": [],
   "source": [
    "#也可以试试model.add(GRU(units = 32,dropout = 0.2,recurrent_dropout = 0.2))"
   ]
  },
  {
   "cell_type": "code",
   "execution_count": 28,
   "metadata": {},
   "outputs": [
    {
     "name": "stdout",
     "output_type": "stream",
     "text": [
      "_________________________________________________________________\n",
      "Layer (type)                 Output Shape              Param #   \n",
      "=================================================================\n",
      "embedding_4 (Embedding)      (None, None, 200)         28548600  \n",
      "_________________________________________________________________\n",
      "conv1d_2 (Conv1D)            (None, None, 80)          64080     \n",
      "_________________________________________________________________\n",
      "global_max_pooling1d_2 (Glob (None, 80)                0         \n",
      "_________________________________________________________________\n",
      "dense_5 (Dense)              (None, 3)                 243       \n",
      "_________________________________________________________________\n",
      "activation_1 (Activation)    (None, 3)                 0         \n",
      "=================================================================\n",
      "Total params: 28,612,923\n",
      "Trainable params: 28,612,923\n",
      "Non-trainable params: 0\n",
      "_________________________________________________________________\n",
      "Train on 40267 samples, validate on 10067 samples\n",
      "Epoch 1/10\n",
      "40267/40267 [==============================] - 103s 3ms/step - loss: 0.8854 - acc: 0.5758 - val_loss: 0.7698 - val_acc: 0.6426\n",
      "Epoch 2/10\n",
      "40267/40267 [==============================] - 96s 2ms/step - loss: 0.4972 - acc: 0.8037 - val_loss: 0.8083 - val_acc: 0.6456\n",
      "Epoch 3/10\n",
      "40267/40267 [==============================] - 98s 2ms/step - loss: 0.1371 - acc: 0.9585 - val_loss: 1.0098 - val_acc: 0.6273\n",
      "Epoch 4/10\n",
      "40267/40267 [==============================] - 102s 3ms/step - loss: 0.0362 - acc: 0.9923 - val_loss: 1.1858 - val_acc: 0.6323\n",
      "Epoch 5/10\n",
      "40267/40267 [==============================] - 116s 3ms/step - loss: 0.0167 - acc: 0.9970 - val_loss: 1.2612 - val_acc: 0.6267\n",
      "12284/12284 [==============================] - 1s 118us/step\n",
      "loss 1.7118034184619526\n",
      "acc 0.508384890973238\n",
      "12284/12284 [==============================] - 2s 127us/step\n",
      "             precision    recall  f1-score   support\n",
      "\n",
      "          0       0.58      0.57      0.57      5937\n",
      "          1       0.36      0.67      0.47      2375\n",
      "          2       0.62      0.33      0.43      3972\n",
      "\n",
      "avg / total       0.55      0.51      0.51     12284\n",
      "\n"
     ]
    },
    {
     "data": {
      "image/png": "[encoded data removed]",
      "text/plain": [
       "<matplotlib.figure.Figure at 0x139da9668>"
      ]
     },
     "metadata": {},
     "output_type": "display_data"
    },
    {
     "data": {
      "image/png": "[encoded data removed]",
      "text/plain": [
       "<matplotlib.figure.Figure at 0x124c07748>"
      ]
     },
     "metadata": {},
     "output_type": "display_data"
    }
   ],
   "source": [
    "from keras.layers.convolutional import Conv1D\n",
    "from keras.layers import GlobalMaxPooling1D,Activation\n",
    "model = Sequential()\n",
    "model.add(Embedding(input_dim =vocab_size, output_dim=200, mask_zero = False))\n",
    "model.add(Conv1D(activation=\"relu\",\n",
    "                 filters=80, kernel_size=4, padding=\"valid\")) #Layer conv1d_1 does not support masking\n",
    "# we use max pooling:\n",
    "model.add(GlobalMaxPooling1D())\n",
    "model.add(Dense(3))\n",
    "model.add(Activation('softmax'))\n",
    "model.compile(optimizer=\"adam\", loss='categorical_crossentropy',metrics=['accuracy'])\n",
    "model.summary()\n",
    "test_model(model,X_train, Y_train, X_val, Y_val, X_test, Y_test,verbose=True)"
   ]
  },
  {
   "cell_type": "code",
   "execution_count": null,
   "metadata": {},
   "outputs": [],
   "source": [
    "from keras.layers import Conv1D, Conv2D\n",
    "import keras.backend as K\n",
    "import numpy as np\n",
    "\n",
    "# create an input with 4 steps and 5 channels/input_dim\n",
    "channels = 5\n",
    "steps = 4\n",
    "filters = 3\n",
    "val = np.array([list(range(i * channels, (i + 1) * channels)) for i in range(1, steps + 1)])\n",
    "val = np.expand_dims(val, axis=0)\n",
    "x = K.variable(value=val)\n",
    "\n",
    "# 1D convolution. Initialize the kernels to ones so that it's easier to compute the result by hand\n",
    "\n",
    "conv1d = Conv1D(filters=filters, kernel_size=1, kernel_initializer='ones')(x)\n",
    "\n",
    "# 2D convolution that replicates the 1D one\n",
    "\n",
    "# need to add a dimension to your input since conv2d expects 4D inputs. I add it at axis 4 since my keras is setup with `channel_last`\n",
    "val1 = np.expand_dims(val, axis=3)\n",
    "x1 = K.variable(value=val1)\n",
    "\n",
    "conv2d = Conv2D(filters=filters, kernel_size=(1, 5), kernel_initializer='ones')(x1)\n",
    "\n",
    "# evaluate and print the outputs\n",
    "print(K.eval(x))\n",
    "print(K.eval(conv1d))\n",
    "print(K.eval(conv2d))"
   ]
  },
  {
   "cell_type": "markdown",
   "metadata": {},
   "source": [
    "Conv1D kernel_size为1，那么一个卷积是对一行对应相乘并相加。kernel_size为2，那么一个卷积是对相邻2行对应相乘并相加。"
   ]
  },
  {
   "cell_type": "code",
   "execution_count": 29,
   "metadata": {},
   "outputs": [],
   "source": [
    "from keras.constraints import maxnorm\n",
    "from keras.engine import Input\n",
    "from keras.engine import Model\n",
    "from keras.layers import Dropout, Dense, Bidirectional, LSTM, \\\n",
    "    Embedding, GaussianNoise, Activation, Flatten, \\\n",
    "    RepeatVector, MaxoutDense, GlobalMaxPooling1D, \\\n",
    "    Convolution1D, MaxPooling1D, concatenate, Conv1D,GaussianNoise\n",
    "from keras.regularizers import l2"
   ]
  },
  {
   "cell_type": "code",
   "execution_count": 30,
   "metadata": {},
   "outputs": [],
   "source": [
    "def cnn_multi_filters(filter_size = [2,3,4], num_filters = 50):\n",
    "    input_text = Input(shape=(35,), dtype='int32')\n",
    "    emb_text = Embedding(input_dim =vocab_size, output_dim=200, mask_zero = False)(input_text)\n",
    "#     emb_text = GaussianNoise(noise)(emb_text)\n",
    "    emb_text = Dropout(0.5)(emb_text)\n",
    "\n",
    "    pooling_reps = []\n",
    "    for i in filter_size:\n",
    "        feat_maps = Convolution1D(nb_filter=num_filters,\n",
    "                                  filter_length=i,\n",
    "                                  border_mode=\"valid\",\n",
    "                                  activation=\"relu\",\n",
    "                                  subsample_length=1)(emb_text)\n",
    "        pool_vecs = MaxPooling1D(pool_length=2)(feat_maps)\n",
    "        pool_vecs = Flatten()(pool_vecs)\n",
    "        # pool_vecs = GlobalMaxPooling1D()(feat_maps)\n",
    "        pooling_reps.append(pool_vecs)\n",
    "\n",
    "    representation = concatenate(pooling_reps)\n",
    "\n",
    "    representation = Dropout(0.5)(representation)\n",
    "\n",
    "    probabilities = Dense(3, activation='softmax',\n",
    "                          activity_regularizer=l2(0.001))(representation)\n",
    "\n",
    "    model = Model(input=input_text, output=probabilities)\n",
    "    model.compile(optimizer=\"adam\", loss='categorical_crossentropy',metrics=['accuracy'])\n",
    "\n",
    "    return model"
   ]
  },
  {
   "cell_type": "code",
   "execution_count": 31,
   "metadata": {},
   "outputs": [
    {
     "name": "stderr",
     "output_type": "stream",
     "text": [
      "/usr/local/lib/python3.6/site-packages/ipykernel_launcher.py:13: UserWarning: Update your `Conv1D` call to the Keras 2 API: `Conv1D(activation=\"relu\", filters=50, kernel_size=2, strides=1, padding=\"valid\")`\n",
      "  del sys.path[0]\n",
      "/usr/local/lib/python3.6/site-packages/ipykernel_launcher.py:14: UserWarning: Update your `MaxPooling1D` call to the Keras 2 API: `MaxPooling1D(pool_size=2)`\n",
      "  \n",
      "/usr/local/lib/python3.6/site-packages/ipykernel_launcher.py:13: UserWarning: Update your `Conv1D` call to the Keras 2 API: `Conv1D(activation=\"relu\", filters=50, kernel_size=3, strides=1, padding=\"valid\")`\n",
      "  del sys.path[0]\n",
      "/usr/local/lib/python3.6/site-packages/ipykernel_launcher.py:13: UserWarning: Update your `Conv1D` call to the Keras 2 API: `Conv1D(activation=\"relu\", filters=50, kernel_size=4, strides=1, padding=\"valid\")`\n",
      "  del sys.path[0]\n",
      "/usr/local/lib/python3.6/site-packages/ipykernel_launcher.py:26: UserWarning: Update your `Model` call to the Keras 2 API: `Model(inputs=Tensor(\"in..., outputs=Tensor(\"de...)`\n"
     ]
    },
    {
     "name": "stdout",
     "output_type": "stream",
     "text": [
      "__________________________________________________________________________________________________\n",
      "Layer (type)                    Output Shape         Param #     Connected to                     \n",
      "==================================================================================================\n",
      "input_1 (InputLayer)            (None, 35)           0                                            \n",
      "__________________________________________________________________________________________________\n",
      "embedding_5 (Embedding)         (None, 35, 200)      28548600    input_1[0][0]                    \n",
      "__________________________________________________________________________________________________\n",
      "dropout_3 (Dropout)             (None, 35, 200)      0           embedding_5[0][0]                \n",
      "__________________________________________________________________________________________________\n",
      "conv1d_3 (Conv1D)               (None, 34, 50)       20050       dropout_3[0][0]                  \n",
      "__________________________________________________________________________________________________\n",
      "conv1d_4 (Conv1D)               (None, 33, 50)       30050       dropout_3[0][0]                  \n",
      "__________________________________________________________________________________________________\n",
      "conv1d_5 (Conv1D)               (None, 32, 50)       40050       dropout_3[0][0]                  \n",
      "__________________________________________________________________________________________________\n",
      "max_pooling1d_1 (MaxPooling1D)  (None, 17, 50)       0           conv1d_3[0][0]                   \n",
      "__________________________________________________________________________________________________\n",
      "max_pooling1d_2 (MaxPooling1D)  (None, 16, 50)       0           conv1d_4[0][0]                   \n",
      "__________________________________________________________________________________________________\n",
      "max_pooling1d_3 (MaxPooling1D)  (None, 16, 50)       0           conv1d_5[0][0]                   \n",
      "__________________________________________________________________________________________________\n",
      "flatten_1 (Flatten)             (None, 850)          0           max_pooling1d_1[0][0]            \n",
      "__________________________________________________________________________________________________\n",
      "flatten_2 (Flatten)             (None, 800)          0           max_pooling1d_2[0][0]            \n",
      "__________________________________________________________________________________________________\n",
      "flatten_3 (Flatten)             (None, 800)          0           max_pooling1d_3[0][0]            \n",
      "__________________________________________________________________________________________________\n",
      "concatenate_1 (Concatenate)     (None, 2450)         0           flatten_1[0][0]                  \n",
      "                                                                 flatten_2[0][0]                  \n",
      "                                                                 flatten_3[0][0]                  \n",
      "__________________________________________________________________________________________________\n",
      "dropout_4 (Dropout)             (None, 2450)         0           concatenate_1[0][0]              \n",
      "__________________________________________________________________________________________________\n",
      "dense_6 (Dense)                 (None, 3)            7353        dropout_4[0][0]                  \n",
      "==================================================================================================\n",
      "Total params: 28,646,103\n",
      "Trainable params: 28,646,103\n",
      "Non-trainable params: 0\n",
      "__________________________________________________________________________________________________\n",
      "Train on 40267 samples, validate on 10067 samples\n",
      "Epoch 1/10\n",
      "40267/40267 [==============================] - 141s 4ms/step - loss: 1.0051 - acc: 0.5227 - val_loss: 0.8891 - val_acc: 0.6155\n",
      "Epoch 2/10\n",
      "40267/40267 [==============================] - 138s 3ms/step - loss: 0.7262 - acc: 0.7242 - val_loss: 0.8389 - val_acc: 0.6501\n",
      "Epoch 3/10\n",
      "40267/40267 [==============================] - 135s 3ms/step - loss: 0.4076 - acc: 0.8897 - val_loss: 0.9826 - val_acc: 0.6279\n",
      "Epoch 4/10\n",
      "40267/40267 [==============================] - 135s 3ms/step - loss: 0.2343 - acc: 0.9620 - val_loss: 1.1684 - val_acc: 0.6175\n",
      "Epoch 5/10\n",
      "40267/40267 [==============================] - 134s 3ms/step - loss: 0.1801 - acc: 0.9826 - val_loss: 1.2946 - val_acc: 0.6161\n",
      "Epoch 6/10\n",
      "40267/40267 [==============================] - 135s 3ms/step - loss: 0.1584 - acc: 0.9912 - val_loss: 1.4133 - val_acc: 0.6128\n",
      "12284/12284 [==============================] - 2s 152us/step\n",
      "loss 1.4895104110842612\n",
      "acc 0.5065939433506357\n",
      "12284/12284 [==============================] - 2s 164us/step\n",
      "             precision    recall  f1-score   support\n",
      "\n",
      "          0       0.58      0.48      0.52      5937\n",
      "          1       0.39      0.57      0.46      2375\n",
      "          2       0.53      0.51      0.52      3972\n",
      "\n",
      "avg / total       0.52      0.51      0.51     12284\n",
      "\n"
     ]
    },
    {
     "data": {
      "image/png": "[encoded data removed]",
      "text/plain": [
       "<matplotlib.figure.Figure at 0x13971b0f0>"
      ]
     },
     "metadata": {},
     "output_type": "display_data"
    },
    {
     "data": {
      "image/png": "[encoded data removed]",
      "text/plain": [
       "<matplotlib.figure.Figure at 0x11e93a048>"
      ]
     },
     "metadata": {},
     "output_type": "display_data"
    }
   ],
   "source": [
    "model = cnn_multi_filters()\n",
    "model.summary()\n",
    "test_model(model,X_train, Y_train, X_val, Y_val, X_test, Y_test,verbose=True)"
   ]
  },
  {
   "cell_type": "markdown",
   "metadata": {},
   "source": [
    "(venv) ffding@e4:~/code/k/wxj-course/course-project/语义计算与知识检索/assignment2/src$ CUDA_VISIBLE_DEVICES=0,1,2,3,4  python main.py\n",
    "Using TensorFlow backend.\n",
    "/home/ffding/code/k/venv/lib/python3.5/site-packages/sklearn/cross_validation.py:41: DeprecationWarning: This module was deprecated in version 0.18 in favor of the model_selection module into which all the refactored classes and functions are moved. Also note that the interface of the new CV iterators are different from that of this module. This module will be removed in 0.20.\n",
    "  \"This module will be removed in 0.20.\", DeprecationWarning)\n",
    "Invalid sample:\n",
    "\"\n",
    "\n",
    "max len: 35\n",
    "vocab_size: 142743\n",
    "_________________________________________________________________\n",
    "Layer (type)                 Output Shape              Param #\n",
    "=================================================================\n",
    "input_1 (InputLayer)         (None, 35)                0\n",
    "_________________________________________________________________\n",
    "embedding_1 (Embedding)      (None, 35, 200)           28548600\n",
    "_________________________________________________________________\n",
    "bidirectional_1 (Bidirection (None, 35, 256)           336896\n",
    "_________________________________________________________________\n",
    "attention_1 (Attention)      (None, 256)               292\n",
    "_________________________________________________________________\n",
    "dense_1 (Dense)              (None, 3)                 771\n",
    "=================================================================\n",
    "Total params: 28,886,559\n",
    "Trainable params: 28,886,559\n",
    "Non-trainable params: 0\n",
    "        Y.extend(Y_)\n",
    "_________________________________________________________________\n",
    "Train on 40267 samples, validate on 10067 samples\n",
    "Epoch 1/10\n",
    "2019-04-13 22:06:45.300023: I tensorflow/core/platform/cpu_feature_guard.cc:141] Your CPU supports instructions that this TensorFlow binary was not compiled to use: AVX2 FMA\n",
    "40267/40267 [==============================] - 68s 2ms/step - loss: 0.9275 - acc: 0.5413 - val_loss: 0.7849 - val_acc: 0.6326\n",
    "Epoch 2/10\n",
    "40267/40267 [==============================] - 66s 2ms/step - loss: 0.5221 - acc: 0.7840 - val_loss: 0.8756 - val_acc: 0.6247\n",
    "Epoch 3/10\n",
    "40267/40267 [==============================] - 67s 2ms/step - loss: 0.1668 - acc: 0.9416 - val_loss: 1.1389 - val_acc: 0.6097\n",
    "Epoch 4/10\n",
    "40267/40267 [==============================] - 66s 2ms/step - loss: 0.0665 - acc: 0.9784 - val_loss: 1.3597 - val_acc: 0.6154\n",
    "12284/12284 [==============================] - 4s 362us/step\n",
    "loss 1.3317078666398208\n",
    "acc 0.5512048192479951\n",
    "(venv) ffding@e4:~/code/k/wxj-course/course-project/语义计算与知识检索/assignment2/src$ ls\n",
    "draft.ipynb  main.py  model.py  __pycache__  utils.py\n",
    "(venv) ffding@e4:~/code/k/wxj-course/course-project/语义计算与知识检索/assignment2/src$ vim utils.py\n",
    "(venv) ffding@e4:~/code/k/wxj-course/course-project/语义计算与知识检索/assignment2/src$ CUDA_VISIBLE_DEVICES=0,1,2,3,4  python main.py\n",
    "Using TensorFlow backend.\n",
    "/home/ffding/code/k/venv/lib/python3.5/site-packages/sklearn/cross_validation.py:41: DeprecationWarning: This module was deprecated in version 0.18 in favor of the model_selection module into which all the refactored classes and functions are moved. Also note that the interface of the new CV iterators are different from that of this module. This module will be removed in 0.20.\n",
    "  \"This module will be removed in 0.20.\", DeprecationWarning)\n",
    "Invalid sample:\n",
    "\"\n",
    "\n",
    "max len: 35\n",
    "vocab_size: 142743\n",
    "_________________________________________________________________\n",
    "Layer (type)                 Output Shape              Param #\n",
    "=================================================================\n",
    "input_1 (InputLayer)         (None, 35)                0\n",
    "_________________________________________________________________\n",
    "embedding_1 (Embedding)      (None, 35, 200)           28548600\n",
    "_________________________________________________________________\n",
    "bidirectional_1 (Bidirection (None, 35, 256)           336896\n",
    "_________________________________________________________________\n",
    "attention_1 (Attention)      (None, 256)               292\n",
    "_________________________________________________________________\n",
    "dense_1 (Dense)              (None, 3)                 771\n",
    "=================================================================\n",
    "Total params: 28,886,559\n",
    "Trainable params: 28,886,559\n",
    "Non-trainable params: 0\n",
    "_________________________________________________________________\n",
    "Train on 40267 samples, validate on 10067 samples\n",
    "Epoch 1/10\n",
    "2019-04-13 22:15:21.378798: I tensorflow/core/platform/cpu_feature_guard.cc:141] Your CPU supports instructions that this TensorFlow binary was not compiled to use: AVX2 FMA\n",
    "40267/40267 [==============================] - 69s 2ms/step - loss: 0.9107 - acc: 0.5541 - val_loss: 0.7809 - val_acc: 0.6386\n",
    "Epoch 2/10\n",
    "40267/40267 [==============================] - 66s 2ms/step - loss: 0.4911 - acc: 0.8022 - val_loss: 0.8492 - val_acc: 0.6298\n",
    "Epoch 3/10\n",
    "40267/40267 [==============================] - 66s 2ms/step - loss: 0.1509 - acc: 0.9462 - val_loss: 1.1740 - val_acc: 0.6059\n",
    "Epoch 4/10\n",
    "40267/40267 [==============================] - 66s 2ms/step - loss: 0.0572 - acc: 0.9808 - val_loss: 1.4479 - val_acc: 0.5992\n",
    "Epoch 5/10\n",
    "40267/40267 [==============================] - 67s 2ms/step - loss: 0.0294 - acc: 0.9915 - val_loss: 1.5738 - val_acc: 0.6025\n",
    "Epoch 6/10\n",
    "40267/40267 [==============================] - 66s 2ms/step - loss: 0.0179 - acc: 0.9955 - val_loss: 1.7123 - val_acc: 0.5899\n",
    "12284/12284 [==============================] - 4s 353us/step\n",
    "loss 1.6460014782756207\n",
    "acc 0.5360631715859314"
   ]
  },
  {
   "cell_type": "code",
   "execution_count": null,
   "metadata": {},
   "outputs": [],
   "source": [
    "#训练三个epoch，acc大概是0.55"
   ]
  },
  {
   "cell_type": "markdown",
   "metadata": {},
   "source": [
    "\n",
    "max len: 35\n",
    "vocab_size: 142743\n",
    "_________________________________________________________________\n",
    "Layer (type)                 Output Shape              Param #\n",
    "=================================================================\n",
    "input_1 (InputLayer)         (None, 35)                0\n",
    "_________________________________________________________________\n",
    "embedding_1 (Embedding)      (None, 35, 200)           28548600\n",
    "_________________________________________________________________\n",
    "bidirectional_1 (Bidirection (None, 35, 256)           336896\n",
    "_________________________________________________________________\n",
    "bidirectional_2 (Bidirection (None, 35, 256)           394240\n",
    "_________________________________________________________________\n",
    "attention_1 (Attention)      (None, 256)               292\n",
    "_________________________________________________________________\n",
    "dense_1 (Dense)              (None, 3)                 771\n",
    "=================================================================\n",
    "Total params: 29,280,799\n",
    "Trainable params: 29,280,799\n",
    "Non-trainable params: 0\n",
    "_________________________________________________________________\n",
    "Train on 40267 samples, validate on 10067 samples\n",
    "Epoch 1/10\n",
    "2019-04-14 13:55:32.403509: I tensorflow/core/platform/cpu_feature_guard.cc:141] Your CPU supports instructions that this TensorFlow binary was not compiled to use: AVX2 FMA\n",
    "40267/40267 [==============================] - 91s 2ms/step - loss: 1.0610 - acc: 0.4468 - val_loss: 1.0373 - val_acc: 0.4496\n",
    "Epoch 2/10\n",
    "40267/40267 [==============================] - 88s 2ms/step - loss: 0.9473 - acc: 0.5116 - val_loss: 0.8153 - val_acc: 0.6167\n",
    "Epoch 3/10\n",
    "40267/40267 [==============================] - 88s 2ms/step - loss: 0.6470 - acc: 0.7146 - val_loss: 0.8113 - val_acc: 0.6346\n",
    "Epoch 4/10\n",
    "40267/40267 [==============================] - 88s 2ms/step - loss: 0.2797 - acc: 0.8939 - val_loss: 0.9976 - val_acc: 0.6181\n",
    "Epoch 5/10\n",
    "40267/40267 [==============================] - 89s 2ms/step - loss: 0.1180 - acc: 0.9592 - val_loss: 1.3248 - val_acc: 0.6156\n",
    "Epoch 6/10\n",
    "40267/40267 [==============================] - 88s 2ms/step - loss: 0.0579 - acc: 0.9812 - val_loss: 1.8527 - val_acc: 0.6072\n",
    "Epoch 7/10\n",
    "40267/40267 [==============================] - 88s 2ms/step - loss: 0.0345 - acc: 0.9896 - val_loss: 1.9542 - val_acc: 0.6066\n",
    "12284/12284 [==============================] - 8s 685us/step\n",
    "loss 2.0124366186760567\n",
    "acc 0.5616248778705293\n",
    "12284/12284 [==============================] - 5s 381us/step\n",
    "             precision    recall  f1-score   support\n",
    "\n",
    "          0       0.56      0.73      0.64      5937\n",
    "          1       0.54      0.41      0.47      2375\n",
    "          2       0.58      0.40      0.47      3972\n",
    "\n",
    "avg / total       0.56      0.56      0.55     12284"
   ]
  },
  {
   "cell_type": "markdown",
   "metadata": {},
   "source": [
    "_________________________________________________________________\n",
    "Layer (type)                 Output Shape              Param #\n",
    "=================================================================\n",
    "input_1 (InputLayer)         (None, 35)                0\n",
    "_________________________________________________________________\n",
    "embedding_1 (Embedding)      (None, 35, 200)           28548600\n",
    "_________________________________________________________________\n",
    "bidirectional_1 (Bidirection (None, 35, 256)           336896\n",
    "_________________________________________________________________\n",
    "bidirectional_2 (Bidirection (None, 256)               394240\n",
    "_________________________________________________________________\n",
    "dense_1 (Dense)              (None, 3)                 771\n",
    "=================================================================\n",
    "Total params: 29,280,507\n",
    "Trainable params: 29,280,507\n",
    "Non-trainable params: 0\n",
    "_________________________________________________________________\n",
    "Train on 40267 samples, validate on 10067 samples\n",
    "Epoch 1/10\n",
    "2019-04-14 16:11:54.542551: I tensorflow/core/platform/cpu_feature_guard.cc:141] Your CPU supports instructions that this TensorFlow binary was not compiled to use: AVX2 FMA\n",
    "40267/40267 [==============================] - 87s 2ms/step - loss: 1.0339 - acc: 0.4608 - val_loss: 0.9116 - val_acc: 0.5382\n",
    "Epoch 2/10\n",
    "40267/40267 [==============================] - 84s 2ms/step - loss: 0.7381 - acc: 0.6618 - val_loss: 0.7731 - val_acc: 0.6449\n",
    "Epoch 3/10\n",
    "40267/40267 [==============================] - 84s 2ms/step - loss: 0.2633 - acc: 0.9007 - val_loss: 1.0012 - val_acc: 0.6093\n",
    "Epoch 4/10\n",
    "40267/40267 [==============================] - 85s 2ms/step - loss: 0.0794 - acc: 0.9726 - val_loss: 1.3421 - val_acc: 0.6032\n",
    "Epoch 5/10\n",
    "40267/40267 [==============================] - 84s 2ms/step - loss: 0.0349 - acc: 0.9886 - val_loss: 1.5002 - val_acc: 0.6066\n",
    "Epoch 6/10\n",
    "40267/40267 [==============================] - 84s 2ms/step - loss: nan - acc: 0.4845 - val_loss: nan - val_acc: 0.4404\n",
    "12284/12284 [==============================] - 8s 674us/step\n",
    "loss nan\n",
    "acc 0.48331162485848106\n",
    "12284/12284 [==============================] - 4s 361us/step\n",
    "/home/ffding/code/k/venv/lib/python3.5/site-packages/sklearn/metrics/classification.py:1135: UndefinedMetricWarning: Precision and F-score are ill-defined and being set to 0.0 in labels with no predicted samples.\n",
    "  'precision', 'predicted', average, warn_for)\n",
    "             precision    recall  f1-score   support\n",
    "\n",
    "          0       0.48      1.00      0.65      5937\n",
    "          1       0.00      0.00      0.00      2375\n",
    "          2       0.00      0.00      0.00      3972\n",
    "\n",
    "avg / total       0.23      0.48      0.31     12284\n"
   ]
  }
 ],
 "metadata": {
  "kernelspec": {
   "display_name": "root-python3",
   "language": "python",
   "name": "root-python3"
  },
  "language_info": {
   "codemirror_mode": {
    "name": "ipython",
    "version": 3
   },
   "file_extension": ".py",
   "mimetype": "text/x-python",
   "name": "python",
   "nbconvert_exporter": "python",
   "pygments_lexer": "ipython3",
   "version": "3.6.5"
  }
 },
 "nbformat": 4,
 "nbformat_minor": 2
}
